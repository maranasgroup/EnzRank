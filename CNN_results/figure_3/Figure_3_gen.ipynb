{
 "cells": [
  {
   "cell_type": "code",
   "execution_count": 1,
   "metadata": {},
   "outputs": [],
   "source": [
    "import pandas as pd \n",
    "import numpy as np \n",
    "import matplotlib.pyplot as plt"
   ]
  },
  {
   "cell_type": "code",
   "execution_count": 2,
   "metadata": {},
   "outputs": [],
   "source": [
    "sim_train_pos = 0.7\n",
    "sim_train_neg = 0.84\n",
    "\n",
    "sim_valid_pos = 0.10\n",
    "sim_valid_neg = 0.91\n",
    "\n",
    "\n",
    "cnn_train_pos = 0.9896\n",
    "cnn_train_neg = 0.9811\n",
    "\n",
    "cnn_valid_pos = 0.8074\n",
    "cnn_valid_neg = 0.7374"
   ]
  },
  {
   "cell_type": "code",
   "execution_count": 3,
   "metadata": {},
   "outputs": [],
   "source": [
    "sim_pos = [sim_train_pos, sim_valid_pos]\n",
    "sim_neg = [sim_train_neg, sim_valid_neg]\n",
    "\n",
    "\n",
    "cnn_pos = [cnn_train_pos, cnn_valid_pos]\n",
    "cnn_neg = [cnn_train_neg, cnn_valid_neg]\n"
   ]
  },
  {
   "cell_type": "code",
   "execution_count": 4,
   "metadata": {},
   "outputs": [],
   "source": [
    "pos_all = [sim_train_pos, sim_valid_pos, cnn_train_pos, cnn_valid_pos]\n",
    "neg_all = [sim_train_neg, sim_valid_neg, cnn_train_neg, cnn_valid_neg]\n",
    "\n",
    "\n",
    "sim_all = [sim_train_pos*100, sim_valid_pos*100, sim_train_neg*100, sim_valid_neg*100]\n",
    "cnn_all = [cnn_train_pos*100, cnn_valid_pos*100, cnn_train_neg*100, cnn_valid_neg*100]"
   ]
  },
  {
   "cell_type": "code",
   "execution_count": null,
   "metadata": {},
   "outputs": [],
   "source": []
  },
  {
   "cell_type": "code",
   "execution_count": 5,
   "metadata": {},
   "outputs": [
    {
     "data": {
      "image/png": "[encoded data removed]",
      "text/plain": [
       "<Figure size 640x480 with 1 Axes>"
      ]
     },
     "metadata": {},
     "output_type": "display_data"
    }
   ],
   "source": [
    "barWidth = 0.2\n",
    "\n",
    "br1 = np.arange(4)\n",
    "br2 = [x + barWidth for x in br1]\n",
    "\n",
    "\n",
    "# plt.bar(br1, pos_all, color = 'b', width = 0.2, edgecolor = 'grey', label = 'Similarity model')\n",
    "# plt.bar(br2, neg_all, color = 'r', width = 0.2, edgecolor = 'grey', label = 'CNN model')\n",
    "\n",
    "plt.bar(br1, sim_all, color = 'b', width = 0.19,  label = 'SimProd')\n",
    "plt.bar(br2, cnn_all, color = 'r', width = 0.19,  label = 'EnzRank')\n",
    "\n",
    "plt.yticks(np.arange(0, 110, step=20))\n",
    "plt.ylim([0, 135])\n",
    "\n",
    "plt.xticks([])\n",
    "plt.legend(fontsize = 'x-large')\n",
    "\n",
    "plt.savefig('all_newlegend.jpg')"
   ]
  }
 ],
 "metadata": {
  "kernelspec": {
   "display_name": "Python 3 (ipykernel)",
   "language": "python",
   "name": "python3"
  },
  "language_info": {
   "codemirror_mode": {
    "name": "ipython",
    "version": 3
   },
   "file_extension": ".py",
   "mimetype": "text/x-python",
   "name": "python",
   "nbconvert_exporter": "python",
   "pygments_lexer": "ipython3",
   "version": "3.10.6"
  }
 },
 "nbformat": 4,
 "nbformat_minor": 4
}
