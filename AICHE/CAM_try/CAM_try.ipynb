{
 "cells": [
  {
   "cell_type": "code",
   "execution_count": 3,
   "id": "2c7a8c15",
   "metadata": {},
   "outputs": [],
   "source": [
    "import numpy as np\n",
    "import pandas as pd\n",
    "import argparse\n",
    "# import h5py\n",
    "import pdb\n",
    "from keras.preprocessing import sequence\n",
    "from keras.utils import pad_sequences\n",
    "import keras\n",
    "from keras import backend as K\n",
    "from keras.models import load_model\n",
    "\n",
    "import tensorflow as tf\n",
    "from tensorflow import keras \n",
    "import datetime, os\n",
    "from tensorboard import notebook\n",
    "\n",
    "from tensorflow.keras import models \n",
    "from tensorflow.keras.models import load_model\n",
    "\n",
    "import matplotlib.pyplot as plt\n",
    "import seaborn as sns\n"
   ]
  },
  {
   "cell_type": "code",
   "execution_count": 4,
   "id": "139b9439",
   "metadata": {},
   "outputs": [
    {
     "name": "stderr",
     "output_type": "stream",
     "text": [
      "2022-11-09 14:20:16.695868: W tensorflow/stream_executor/platform/default/dso_loader.cc:64] Could not load dynamic library 'libcudnn.so.8'; dlerror: libcudnn.so.8: cannot open shared object file: No such file or directory\n",
      "2022-11-09 14:20:16.695909: W tensorflow/core/common_runtime/gpu/gpu_device.cc:1934] Cannot dlopen some GPU libraries. Please make sure the missing libraries mentioned above are installed properly if you would like to use GPU. Follow the guide at https://www.tensorflow.org/install/gpu for how to download and setup the required libraries for your platform.\n",
      "Skipping registering GPU devices...\n",
      "2022-11-09 14:20:16.696283: I tensorflow/core/platform/cpu_feature_guard.cc:193] This TensorFlow binary is optimized with oneAPI Deep Neural Network Library (oneDNN) to use the following CPU instructions in performance-critical operations:  AVX2 FMA\n",
      "To enable them in other operations, rebuild TensorFlow with the appropriate compiler flags.\n"
     ]
    }
   ],
   "source": [
    "# loaded_model = load_model('./../CNN_results/model_final_t1.model')\n",
    "loaded_model = load_model('./../CNN_results_split_final/Final_model.model')\n",
    "\n",
    "model = loaded_model"
   ]
  },
  {
   "cell_type": "code",
   "execution_count": 5,
   "id": "721cbeed-7cee-4459-b88e-6791fcd57f5a",
   "metadata": {},
   "outputs": [
    {
     "name": "stdout",
     "output_type": "stream",
     "text": [
      "Model: \"model\"\n",
      "__________________________________________________________________________________________________\n",
      " Layer (type)                   Output Shape         Param #     Connected to                     \n",
      "==================================================================================================\n",
      " input_2 (InputLayer)           [(None, 2500)]       0           []                               \n",
      "                                                                                                  \n",
      " embedding (Embedding)          (None, 2500, 20)     520         ['input_2[0][0]']                \n",
      "                                                                                                  \n",
      " spatial_dropout1d (SpatialDrop  (None, 2500, 20)    0           ['embedding[0][0]']              \n",
      " out1D)                                                                                           \n",
      "                                                                                                  \n",
      " input_1 (InputLayer)           [(None, 2048)]       0           []                               \n",
      "                                                                                                  \n",
      " conv1d (Conv1D)                (None, 2500, 128)    25728       ['spatial_dropout1d[0][0]']      \n",
      "                                                                                                  \n",
      " conv1d_1 (Conv1D)              (None, 2500, 128)    38528       ['spatial_dropout1d[0][0]']      \n",
      "                                                                                                  \n",
      " conv1d_2 (Conv1D)              (None, 2500, 128)    51328       ['spatial_dropout1d[0][0]']      \n",
      "                                                                                                  \n",
      " conv1d_3 (Conv1D)              (None, 2500, 128)    64128       ['spatial_dropout1d[0][0]']      \n",
      "                                                                                                  \n",
      " conv1d_4 (Conv1D)              (None, 2500, 128)    76928       ['spatial_dropout1d[0][0]']      \n",
      "                                                                                                  \n",
      " dense (Dense)                  (None, 512)          1049088     ['input_1[0][0]']                \n",
      "                                                                                                  \n",
      " batch_normalization_2 (BatchNo  (None, 2500, 128)   512         ['conv1d[0][0]']                 \n",
      " rmalization)                                                                                     \n",
      "                                                                                                  \n",
      " batch_normalization_3 (BatchNo  (None, 2500, 128)   512         ['conv1d_1[0][0]']               \n",
      " rmalization)                                                                                     \n",
      "                                                                                                  \n",
      " batch_normalization_4 (BatchNo  (None, 2500, 128)   512         ['conv1d_2[0][0]']               \n",
      " rmalization)                                                                                     \n",
      "                                                                                                  \n",
      " batch_normalization_5 (BatchNo  (None, 2500, 128)   512         ['conv1d_3[0][0]']               \n",
      " rmalization)                                                                                     \n",
      "                                                                                                  \n",
      " batch_normalization_6 (BatchNo  (None, 2500, 128)   512         ['conv1d_4[0][0]']               \n",
      " rmalization)                                                                                     \n",
      "                                                                                                  \n",
      " batch_normalization (BatchNorm  (None, 512)         2048        ['dense[0][0]']                  \n",
      " alization)                                                                                       \n",
      "                                                                                                  \n",
      " activation_2 (Activation)      (None, 2500, 128)    0           ['batch_normalization_2[0][0]']  \n",
      "                                                                                                  \n",
      " activation_3 (Activation)      (None, 2500, 128)    0           ['batch_normalization_3[0][0]']  \n",
      "                                                                                                  \n",
      " activation_4 (Activation)      (None, 2500, 128)    0           ['batch_normalization_4[0][0]']  \n",
      "                                                                                                  \n",
      " activation_5 (Activation)      (None, 2500, 128)    0           ['batch_normalization_5[0][0]']  \n",
      "                                                                                                  \n",
      " activation_6 (Activation)      (None, 2500, 128)    0           ['batch_normalization_6[0][0]']  \n",
      "                                                                                                  \n",
      " activation (Activation)        (None, 512)          0           ['batch_normalization[0][0]']    \n",
      "                                                                                                  \n",
      " global_max_pooling1d (GlobalMa  (None, 128)         0           ['activation_2[0][0]']           \n",
      " xPooling1D)                                                                                      \n",
      "                                                                                                  \n",
      " global_max_pooling1d_1 (Global  (None, 128)         0           ['activation_3[0][0]']           \n",
      " MaxPooling1D)                                                                                    \n",
      "                                                                                                  \n",
      " global_max_pooling1d_2 (Global  (None, 128)         0           ['activation_4[0][0]']           \n",
      " MaxPooling1D)                                                                                    \n",
      "                                                                                                  \n",
      " global_max_pooling1d_3 (Global  (None, 128)         0           ['activation_5[0][0]']           \n",
      " MaxPooling1D)                                                                                    \n",
      "                                                                                                  \n",
      " global_max_pooling1d_4 (Global  (None, 128)         0           ['activation_6[0][0]']           \n",
      " MaxPooling1D)                                                                                    \n",
      "                                                                                                  \n",
      " dropout (Dropout)              (None, 512)          0           ['activation[0][0]']             \n",
      "                                                                                                  \n",
      " concatenate (Concatenate)      (None, 640)          0           ['global_max_pooling1d[0][0]',   \n",
      "                                                                  'global_max_pooling1d_1[0][0]', \n",
      "                                                                  'global_max_pooling1d_2[0][0]', \n",
      "                                                                  'global_max_pooling1d_3[0][0]', \n",
      "                                                                  'global_max_pooling1d_4[0][0]'] \n",
      "                                                                                                  \n",
      " dense_1 (Dense)                (None, 128)          65664       ['dropout[0][0]']                \n",
      "                                                                                                  \n",
      " dense_2 (Dense)                (None, 128)          82048       ['concatenate[0][0]']            \n",
      "                                                                                                  \n",
      " batch_normalization_1 (BatchNo  (None, 128)         512         ['dense_1[0][0]']                \n",
      " rmalization)                                                                                     \n"
     ]
    },
    {
     "name": "stdout",
     "output_type": "stream",
     "text": [
      "                                                                                                  \n",
      " batch_normalization_7 (BatchNo  (None, 128)         512         ['dense_2[0][0]']                \n",
      " rmalization)                                                                                     \n",
      "                                                                                                  \n",
      " activation_1 (Activation)      (None, 128)          0           ['batch_normalization_1[0][0]']  \n",
      "                                                                                                  \n",
      " activation_7 (Activation)      (None, 128)          0           ['batch_normalization_7[0][0]']  \n",
      "                                                                                                  \n",
      " dropout_1 (Dropout)            (None, 128)          0           ['activation_1[0][0]']           \n",
      "                                                                                                  \n",
      " dropout_2 (Dropout)            (None, 128)          0           ['activation_7[0][0]']           \n",
      "                                                                                                  \n",
      " concatenate_1 (Concatenate)    (None, 256)          0           ['dropout_1[0][0]',              \n",
      "                                                                  'dropout_2[0][0]']              \n",
      "                                                                                                  \n",
      " dense_3 (Dense)                (None, 128)          32896       ['concatenate_1[0][0]']          \n",
      "                                                                                                  \n",
      " batch_normalization_8 (BatchNo  (None, 128)         512         ['dense_3[0][0]']                \n",
      " rmalization)                                                                                     \n",
      "                                                                                                  \n",
      " activation_8 (Activation)      (None, 128)          0           ['batch_normalization_8[0][0]']  \n",
      "                                                                                                  \n",
      " dense_4 (Dense)                (None, 1)            129         ['activation_8[0][0]']           \n",
      "                                                                                                  \n",
      " lambda (Lambda)                (None, 1)            0           ['dense_4[0][0]']                \n",
      "                                                                                                  \n",
      "==================================================================================================\n",
      "Total params: 1,493,129\n",
      "Trainable params: 1,490,057\n",
      "Non-trainable params: 3,072\n",
      "__________________________________________________________________________________________________\n"
     ]
    }
   ],
   "source": [
    "loaded_model.summary()"
   ]
  },
  {
   "cell_type": "code",
   "execution_count": 6,
   "id": "b351dd69",
   "metadata": {},
   "outputs": [],
   "source": [
    "from keras.utils import pad_sequences\n",
    "\n",
    "\n",
    "seq_rdic = ['A','I','L','V','F','W','Y','N','C','Q','M','S','T','D','E','R','H','K','G','P','O','U','X','B','Z']\n",
    "seq_dic = {w: i+1 for i,w in enumerate(seq_rdic)}\n",
    "\n",
    "\n",
    "def encodeSeq(seq, seq_dic):\n",
    "    if pd.isnull(seq):\n",
    "        return [0] \n",
    "    else:\n",
    "        return [seq_dic[aa] for aa in seq]\n",
    "    \n",
    "    \n",
    "def prot_feature_gen_from_str_input(prot_input_str, prot_len = 2500):\n",
    "    Prot_ID = prot_input_str.split(':')[0]\n",
    "    Prot_seq = prot_input_str.split(':')[1]\n",
    "    prot_dataframe = pd.DataFrame({'Protein_ID': Prot_ID, 'Sequence': Prot_seq}, index = [0])\n",
    "    prot_dataframe.set_index('Protein_ID')\n",
    "    \n",
    "    \n",
    "    prot_dataframe[\"encoded_sequence\"] = prot_dataframe.Sequence.map(lambda a: encodeSeq(a, seq_dic))\n",
    "    prot_feature = pad_sequences(prot_dataframe[\"encoded_sequence\"].values, prot_len)\n",
    "    \n",
    "    return prot_feature, Prot_ID\n",
    "    \n",
    "    \n",
    "KEGG_compound_read = pd.read_csv('./../CNN_data/Final_test/kegg_compound.csv', index_col = 'Compound_ID')\n",
    "kegg_df = KEGG_compound_read.reset_index()\n",
    "    \n",
    "def mol_feature_gen_from_str_input(mol_str, kegg_id_flag):\n",
    "\t\n",
    "\tif kegg_id_flag == 1:\n",
    "\t\tKEGG_ID = mol_str\n",
    "\t\tkegg_id_loc = kegg_df.index[kegg_df.Compound_ID == KEGG_ID][0]\n",
    "\t\tKEGG_ID_info = kegg_df.loc[kegg_id_loc]\n",
    "\t\tKEGG_ID_info_df = KEGG_ID_info.to_frame().T.set_index('Compound_ID')\n",
    "\t\t\n",
    "\t\tfinal_return = KEGG_ID_info_df\n",
    "\t\tfinal_id = KEGG_ID\n",
    "\t\t\n",
    "\telse: \n",
    "\t\ttry:\n",
    "\t\t\tmol_ID = mol_str.split(':')[0]\n",
    "\t\t\tmol_smiles = mol_str.split(':')[1]\n",
    "\t\t\tmol = Chem.MolFromSmiles(mol_smiles)\n",
    "\t\t\tfp1 = AllChem.GetMorganFingerprintAsBitVect(mol, useChirality=True, radius=2, nBits=2048)\n",
    "\t\t\tfp_list = list(np.array(fp1).astype(float))\n",
    "\t\t\tfp_str = list(map(str, fp_list))\n",
    "\t\t\tmol_fp = '\\t'.join(fp_str) \n",
    "\t\t\t\n",
    "\t\t\tmol_dict = {}\n",
    "\t\t\tmol_dict['Compound_ID'] = mol_ID\n",
    "\t\t\tmol_dict['Smiles'] = mol_smiles\n",
    "\t\t\tmol_dict['morgan_fp_r2'] = mol_fp\n",
    "\t\t\t\n",
    "\t\t\tmol_info_df = pd.DataFrame(mol_dict, index=[0])\n",
    "\t\t\tmol_info_df = mol_info_df.set_index('Compound_ID')\n",
    "\t\t\t\n",
    "\t\t\tfinal_return = mol_info_df\n",
    "\t\t\tfinal_id = mol_ID\n",
    "\t\t\t\n",
    "\t\texcept Exception as error:\n",
    "\t\t\tprint('Something wrong with molecule input string...' + repr(error)) \n",
    "\t\t\t\n",
    "\treturn final_return, final_id\n",
    "    \n",
    "    \n",
    "def act_df_gen_mol_feature(mol_id, prot_id):\n",
    "\tact_df = pd.DataFrame({'Protein_ID':prot_id, 'Compound_ID': mol_id}, index = [0])\n",
    "\t\n",
    "\treturn act_df\n",
    "\t\n",
    "\t\n",
    "\n",
    "\n",
    "def load_modelfile(model_string):\n",
    "\tloaded_model = tf.keras.models.load_model(model_string)\n",
    "\treturn loaded_model\n",
    "\t\n",
    "\n",
    "\n",
    "def model_prediction(compound_feature, enz_feature):\n",
    "    prediction_vals = loaded_model.predict([compound_feature, enz_feature])\n",
    "    \n",
    "    return prediction_vals[0][0]\n"
   ]
  },
  {
   "cell_type": "code",
   "execution_count": 7,
   "id": "3befdfb8-bd00-48da-ba1b-b0503b144ff6",
   "metadata": {},
   "outputs": [],
   "source": [
    "def compound_feature_gen_df_input(act_df, comp_df, comp_len = 2048, comp_vec= 'morgan_fp_r2'):\n",
    "    act_df = pd.merge(act_df, comp_df, left_on='Compound_ID', right_index = True)\n",
    "    comp_feature = np.stack(act_df[comp_vec].map(lambda fp: fp.split(\"\\t\")))\n",
    "    comp_feature = comp_feature.astype('float')\n",
    "    return comp_feature\n",
    "    \n",
    "    "
   ]
  },
  {
   "cell_type": "code",
   "execution_count": 8,
   "id": "c03d00aa-228f-4621-8a71-9b5d8280e21b",
   "metadata": {},
   "outputs": [],
   "source": [
    "def protein_feature_gen(prot_csv_file, prot_len = 2500):\n",
    "    protein_df = pd.read_csv(prot_csv_file, index_col='Protein_ID')\n",
    "    protein_df[\"encoded_sequence\"] = protein_df.Sequence.map(lambda a: encodeSeq(a, seq_dic))\n",
    "    pfeature = pad_sequences(protein_df[\"encoded_sequence\"].values, prot_len)\n",
    "    \n",
    "    return pfeature, protein_df\n",
    "\n",
    "\n",
    "def compound_feature_gen(act_csv_file, comp_csv_file, comp_len = 2048, comp_vec = 'morgan_fp_r2'):\n",
    "    act_df = pd.read_csv(act_csv_file)\n",
    "    comp_df = pd.read_csv(comp_csv_file, index_col = 'Compound_ID')\n",
    "    act_df = pd.merge(act_df, comp_df, left_on='Compound_ID', right_index = True)\n",
    "    comp_feature = np.stack(act_df[comp_vec].map(lambda fp: fp.split(\"\\t\")))\n",
    "    comp_feature = comp_feature.astype('float')\n",
    "    return comp_feature, act_df"
   ]
  },
  {
   "cell_type": "code",
   "execution_count": 9,
   "id": "d11ac79f",
   "metadata": {},
   "outputs": [],
   "source": [
    "# pstr = \"A0A4P8WFA8:MTKRVLVTGGAGFLGSHLCERLLSEGHEVICLDNFGSGRRKNIKEFEDHPSFKVNDRDVRISESLPSVDRIYHLASRASPADFTQFPVNIALANTQGTRRLLDQARACDARMVFASTSEVYGDPKVHPQPETYTGNVNIRGARGCYDESKRFGETLTVAYQRKYDVDARTVRIFNTYGPRMRPDDGRVVPTFVTQALRGDDLTIYGDGEQTRSFCYVDDLIEGLISLMRVDNPEHNVYNIGKENERTIKELAYEVLGLTDTESDIVYEPLPEDDPGQRRPDITRAKTELDWEPKISLREGLEDTITYFDN\"\n",
    "# cstr = 'C00149'\n",
    "\n",
    "pstr = 'g2p3t0:MTRDPEVVRLAVIPGDGIGPEVVAATVPTLRTALEAEGHRLDVASYDWGGERYLRQGAAMPADAAGLVKKADAVLFGAVGRPDVPEHELVWGLIIGLRQQLDLAVNLRPVRAFPGVPTKVRDTDGVDLVIVRENTEGEYVGAGGVAHAGSGHDLGIEVAVHSRRAIERAAHQAFALAGRRSGHLSLVTKSNAMRYGYPLWDRVVREVGEHYPAVRLETVLVDAMAARMIQAPRSLDVLLASNLFGDILSDLAAVLAGGMGMAPSANVLPGADVPGIYEPVHGSAPDIAGKGVANPVACMLSGAMLLDDLGHTGAARRVRDAVAATLRDVRHHTADLGGNATTAEVASAVLHTMESQG'\n",
    "cstr = 'C00497'\n",
    "\n",
    "pf, pid = prot_feature_gen_from_str_input(pstr)\n",
    "cf, cid = mol_feature_gen_from_str_input(cstr, 1)\n",
    "act_dataframe = act_df_gen_mol_feature(cid, pid)\n",
    "\n",
    "cfeat = compound_feature_gen_df_input(act_dataframe, cf)"
   ]
  },
  {
   "cell_type": "code",
   "execution_count": null,
   "id": "e769b89b-fc26-4a18-b648-a8231f8dfc7a",
   "metadata": {},
   "outputs": [],
   "source": []
  },
  {
   "cell_type": "code",
   "execution_count": 10,
   "id": "3b586462-e920-43be-8e8c-50a95916f292",
   "metadata": {},
   "outputs": [
    {
     "name": "stdout",
     "output_type": "stream",
     "text": [
      "1/1 [==============================] - 1s 1s/step\n"
     ]
    },
    {
     "data": {
      "text/plain": [
       "array([[0.99448997]], dtype=float32)"
      ]
     },
     "execution_count": 10,
     "metadata": {},
     "output_type": "execute_result"
    }
   ],
   "source": [
    "loaded_model.predict([cfeat, pf])"
   ]
  },
  {
   "cell_type": "code",
   "execution_count": null,
   "id": "f1fbd608-e408-4a60-be38-d7ed44cea655",
   "metadata": {},
   "outputs": [],
   "source": []
  },
  {
   "cell_type": "code",
   "execution_count": null,
   "id": "7b0b5819-8f6f-4995-afd9-ee5dd0baf995",
   "metadata": {},
   "outputs": [],
   "source": []
  },
  {
   "cell_type": "code",
   "execution_count": null,
   "id": "35468fa4-2ea0-438a-8055-75afa6657242",
   "metadata": {},
   "outputs": [],
   "source": []
  },
  {
   "cell_type": "code",
   "execution_count": 11,
   "id": "f4f538da-27c3-4f33-bae7-bc09fb87b79e",
   "metadata": {},
   "outputs": [],
   "source": [
    "Rule1_prot = pd.read_csv('./../CNN_data/Final_test/Rule_1_protein.csv', index_col='Protein_ID')\n",
    "R1_act = pd.read_csv('./../CNN_data/Final_test/Rule_1_act_top_10_anal.csv')\n",
    "R1_comp = pd.read_csv('./../CNN_data/Final_test/kegg_compound.csv', index_col = 'Compound_ID')\n"
   ]
  },
  {
   "cell_type": "code",
   "execution_count": 12,
   "id": "008b1185-a33e-432c-acb5-fa70615adbe6",
   "metadata": {},
   "outputs": [],
   "source": [
    "pfeature_R1, pdfr1 = protein_feature_gen('./../CNN_data/Final_test/Rule_1_protein.csv', prot_len=2500) "
   ]
  },
  {
   "cell_type": "code",
   "execution_count": 13,
   "id": "b1f2312e-7363-40b7-b9dd-c91d5a598f28",
   "metadata": {},
   "outputs": [],
   "source": [
    "cfeat_R1, act_dframe = compound_feature_gen('./../CNN_data/Final_test/Rule_1_act_top_10_anal.csv', './../CNN_data/Final_test/kegg_compound.csv', comp_len=2048, comp_vec='morgan_fp_r2')"
   ]
  },
  {
   "cell_type": "code",
   "execution_count": 14,
   "id": "8a682e20-a975-4475-88e4-0a806c0ae03e",
   "metadata": {},
   "outputs": [
    {
     "data": {
      "text/plain": [
       "(2819, 2500)"
      ]
     },
     "execution_count": 14,
     "metadata": {},
     "output_type": "execute_result"
    }
   ],
   "source": [
    "pfeature_R1.shape"
   ]
  },
  {
   "cell_type": "code",
   "execution_count": 74,
   "id": "6e2fbefe-65b1-417f-94a6-3b41d8672003",
   "metadata": {},
   "outputs": [
    {
     "data": {
      "text/html": [
       "<div>\n",
       "<style scoped>\n",
       "    .dataframe tbody tr th:only-of-type {\n",
       "        vertical-align: middle;\n",
       "    }\n",
       "\n",
       "    .dataframe tbody tr th {\n",
       "        vertical-align: top;\n",
       "    }\n",
       "\n",
       "    .dataframe thead th {\n",
       "        text-align: right;\n",
       "    }\n",
       "</style>\n",
       "<table border=\"1\" class=\"dataframe\">\n",
       "  <thead>\n",
       "    <tr style=\"text-align: right;\">\n",
       "      <th></th>\n",
       "      <th>Unnamed: 0_x</th>\n",
       "      <th>Protein_ID</th>\n",
       "      <th>Compound_ID</th>\n",
       "      <th>Unnamed: 0_y</th>\n",
       "      <th>smiles</th>\n",
       "      <th>morgan_fp_r2</th>\n",
       "    </tr>\n",
       "  </thead>\n",
       "  <tbody>\n",
       "    <tr>\n",
       "      <th>0</th>\n",
       "      <td>0</td>\n",
       "      <td>P76251</td>\n",
       "      <td>C00497</td>\n",
       "      <td>103</td>\n",
       "      <td>O[C@H](CC(=O)[O-])C(=O)[O-]</td>\n",
       "      <td>0.0\\t1.0\\t0.0\\t0.0\\t0.0\\t0.0\\t0.0\\t0.0\\t1.0\\t0...</td>\n",
       "    </tr>\n",
       "    <tr>\n",
       "      <th>1</th>\n",
       "      <td>1</td>\n",
       "      <td>ECDH10B_1938</td>\n",
       "      <td>C00497</td>\n",
       "      <td>103</td>\n",
       "      <td>O[C@H](CC(=O)[O-])C(=O)[O-]</td>\n",
       "      <td>0.0\\t1.0\\t0.0\\t0.0\\t0.0\\t0.0\\t0.0\\t0.0\\t1.0\\t0...</td>\n",
       "    </tr>\n",
       "    <tr>\n",
       "      <th>2</th>\n",
       "      <td>2</td>\n",
       "      <td>BWG_1613</td>\n",
       "      <td>C00497</td>\n",
       "      <td>103</td>\n",
       "      <td>O[C@H](CC(=O)[O-])C(=O)[O-]</td>\n",
       "      <td>0.0\\t1.0\\t0.0\\t0.0\\t0.0\\t0.0\\t0.0\\t0.0\\t1.0\\t0...</td>\n",
       "    </tr>\n",
       "    <tr>\n",
       "      <th>3</th>\n",
       "      <td>3</td>\n",
       "      <td>ECMDS42_1474</td>\n",
       "      <td>C00497</td>\n",
       "      <td>103</td>\n",
       "      <td>O[C@H](CC(=O)[O-])C(=O)[O-]</td>\n",
       "      <td>0.0\\t1.0\\t0.0\\t0.0\\t0.0\\t0.0\\t0.0\\t0.0\\t1.0\\t0...</td>\n",
       "    </tr>\n",
       "    <tr>\n",
       "      <th>4</th>\n",
       "      <td>4</td>\n",
       "      <td>A0A6M7H0M6</td>\n",
       "      <td>C00497</td>\n",
       "      <td>103</td>\n",
       "      <td>O[C@H](CC(=O)[O-])C(=O)[O-]</td>\n",
       "      <td>0.0\\t1.0\\t0.0\\t0.0\\t0.0\\t0.0\\t0.0\\t0.0\\t1.0\\t0...</td>\n",
       "    </tr>\n",
       "  </tbody>\n",
       "</table>\n",
       "</div>"
      ],
      "text/plain": [
       "   Unnamed: 0_x    Protein_ID Compound_ID  Unnamed: 0_y  \\\n",
       "0             0        P76251      C00497           103   \n",
       "1             1  ECDH10B_1938      C00497           103   \n",
       "2             2      BWG_1613      C00497           103   \n",
       "3             3  ECMDS42_1474      C00497           103   \n",
       "4             4    A0A6M7H0M6      C00497           103   \n",
       "\n",
       "                        smiles  \\\n",
       "0  O[C@H](CC(=O)[O-])C(=O)[O-]   \n",
       "1  O[C@H](CC(=O)[O-])C(=O)[O-]   \n",
       "2  O[C@H](CC(=O)[O-])C(=O)[O-]   \n",
       "3  O[C@H](CC(=O)[O-])C(=O)[O-]   \n",
       "4  O[C@H](CC(=O)[O-])C(=O)[O-]   \n",
       "\n",
       "                                        morgan_fp_r2  \n",
       "0  0.0\\t1.0\\t0.0\\t0.0\\t0.0\\t0.0\\t0.0\\t0.0\\t1.0\\t0...  \n",
       "1  0.0\\t1.0\\t0.0\\t0.0\\t0.0\\t0.0\\t0.0\\t0.0\\t1.0\\t0...  \n",
       "2  0.0\\t1.0\\t0.0\\t0.0\\t0.0\\t0.0\\t0.0\\t0.0\\t1.0\\t0...  \n",
       "3  0.0\\t1.0\\t0.0\\t0.0\\t0.0\\t0.0\\t0.0\\t0.0\\t1.0\\t0...  \n",
       "4  0.0\\t1.0\\t0.0\\t0.0\\t0.0\\t0.0\\t0.0\\t0.0\\t1.0\\t0...  "
      ]
     },
     "execution_count": 74,
     "metadata": {},
     "output_type": "execute_result"
    }
   ],
   "source": [
    "act_dframe.head()"
   ]
  },
  {
   "cell_type": "code",
   "execution_count": 78,
   "id": "44dbfea2-d1ca-4f93-a66f-8ea1bba0ba3d",
   "metadata": {},
   "outputs": [],
   "source": [
    "pid_r1 = act_dframe.Protein_ID.tolist()\n",
    "cid_r1 = act_dframe.Compound_ID.tolist()"
   ]
  },
  {
   "cell_type": "code",
   "execution_count": null,
   "id": "ed075e0e-3d37-42c1-a485-d73443d32022",
   "metadata": {},
   "outputs": [],
   "source": [
    "loaded_model.summary()"
   ]
  },
  {
   "cell_type": "code",
   "execution_count": 15,
   "id": "d3b57b7b",
   "metadata": {},
   "outputs": [],
   "source": [
    "prot_input_layer = loaded_model.get_layer('input_2')\n",
    "embedding_1_layer = loaded_model.get_layer('embedding')\n",
    "spatial_dropout1d_1_layer = loaded_model.get_layer('spatial_dropout1d')\n",
    "\n",
    "mol_input_layer = loaded_model.get_layer('input_1')\n",
    "\n",
    "conv1d_layer1 = loaded_model.get_layer('conv1d')\n",
    "conv1d_layer2 = loaded_model.get_layer('conv1d_1')\n",
    "conv1d_layer3 = loaded_model.get_layer('conv1d_2')\n",
    "conv1d_layer4 = loaded_model.get_layer('conv1d_3')\n",
    "conv1d_layer5 = loaded_model.get_layer('conv1d_4')\n",
    "\n",
    "batch_normalization_p_conv_layer1 = loaded_model.get_layer('batch_normalization_2')\n",
    "batch_normalization_p_conv_layer2 = loaded_model.get_layer('batch_normalization_3')\n",
    "batch_normalization_p_conv_layer3 = loaded_model.get_layer('batch_normalization_4')\n",
    "batch_normalization_p_conv_layer4 = loaded_model.get_layer('batch_normalization_5')\n",
    "batch_normalization_p_conv_layer5 = loaded_model.get_layer('batch_normalization_6')\n",
    "\n",
    "activation_p_conv_layer1 = loaded_model.get_layer('activation_2')\n",
    "activation_p_conv_layer2 = loaded_model.get_layer('activation_3')\n",
    "activation_p_conv_layer3 = loaded_model.get_layer('activation_4')\n",
    "activation_p_conv_layer4 = loaded_model.get_layer('activation_5')\n",
    "activation_p_conv_layer5 = loaded_model.get_layer('activation_6')\n",
    "\n",
    "\n",
    "global_max_pooling1d_layer1 = loaded_model.get_layer('global_max_pooling1d')\n",
    "global_max_pooling1d_layer2 = loaded_model.get_layer('global_max_pooling1d_1')\n",
    "global_max_pooling1d_layer3 = loaded_model.get_layer('global_max_pooling1d_2')\n",
    "global_max_pooling1d_layer4 = loaded_model.get_layer('global_max_pooling1d_3')\n",
    "global_max_pooling1d_layer5 = loaded_model.get_layer('global_max_pooling1d_4')\n",
    "\n",
    "concatenate_p_layers = loaded_model.get_layer('concatenate')\n",
    "dense_layer_3 = loaded_model.get_layer('dense_2')\n",
    "batch_normalization_p_layer8 = loaded_model.get_layer('batch_normalization_7')\n",
    "activation_p_conv_layer8 = loaded_model.get_layer('activation_7')\n",
    "dropout_p_layer = loaded_model.get_layer('dropout_2')\n",
    "\n",
    "\n",
    "\n",
    "dense_layer_1_mol = loaded_model.get_layer('dense')\n",
    "batch_normalization_c_layer1 = loaded_model.get_layer('batch_normalization')\n",
    "activation_c_layer1 = loaded_model.get_layer('activation')\n",
    "dropout_c_layer1 = loaded_model.get_layer('dropout')\n",
    "\n",
    "dense_layer_2 = loaded_model.get_layer('dense_1')\n",
    "batch_normalization_c_layer2 = loaded_model.get_layer('batch_normalization_1')\n",
    "activation_c_layer2 = loaded_model.get_layer('activation_1')\n",
    "dropout_c_layer2 = loaded_model.get_layer('dropout_1')\n",
    "\n",
    "\n",
    "concatenate_layers_final = loaded_model.get_layer('concatenate_1')\n",
    "dense_layer_final = loaded_model.get_layer('dense_3')\n",
    "batch_normalization_layer_final = loaded_model.get_layer('batch_normalization_8')\n",
    "activation_layer_final = loaded_model.get_layer('activation_8')\n",
    "dense_layer_final_5 = loaded_model.get_layer('dense_4')\n",
    "lambda_layer = loaded_model.get_layer('lambda')"
   ]
  },
  {
   "cell_type": "code",
   "execution_count": 16,
   "id": "39aaf32c",
   "metadata": {},
   "outputs": [],
   "source": [
    "model_prot_input_layer = tf.keras.models.Model([loaded_model.inputs],[prot_input_layer.output, loaded_model.output])\n",
    "model_embedding_layer_1 = tf.keras.models.Model([loaded_model.inputs],[embedding_1_layer.output, loaded_model.output])\n",
    "model_spatial_dropout1d_1_layer = tf.keras.models.Model([loaded_model.inputs],[ spatial_dropout1d_1_layer.output, loaded_model.output])\n",
    "\n",
    "model_mol_input_layer = tf.keras.models.Model([loaded_model.inputs],[mol_input_layer.output, loaded_model.output])\n",
    "\n",
    "model_conv1d_layer1 = tf.keras.models.Model([loaded_model.inputs],[conv1d_layer1.output, loaded_model.output])\n",
    "model_conv1d_layer2 = tf.keras.models.Model([loaded_model.inputs],[conv1d_layer2.output, loaded_model.output])\n",
    "model_conv1d_layer3 = tf.keras.models.Model([loaded_model.inputs],[conv1d_layer3.output, loaded_model.output])\n",
    "model_conv1d_layer4 = tf.keras.models.Model([loaded_model.inputs],[conv1d_layer4.output, loaded_model.output])\n",
    "model_conv1d_layer5 = tf.keras.models.Model([loaded_model.inputs],[conv1d_layer5.output, loaded_model.output])\n",
    "\n",
    "model_batch_normalization_p_conv_layer1 = tf.keras.models.Model([loaded_model.inputs],[batch_normalization_p_conv_layer1.output, loaded_model.output])\n",
    "model_batch_normalization_p_conv_layer2 = tf.keras.models.Model([loaded_model.inputs],[batch_normalization_p_conv_layer2.output, loaded_model.output])\n",
    "model_batch_normalization_p_conv_layer3 = tf.keras.models.Model([loaded_model.inputs],[batch_normalization_p_conv_layer3.output, loaded_model.output])\n",
    "model_batch_normalization_p_conv_layer4 = tf.keras.models.Model([loaded_model.inputs],[batch_normalization_p_conv_layer4.output, loaded_model.output])\n",
    "model_batch_normalization_p_conv_layer5 = tf.keras.models.Model([loaded_model.inputs],[batch_normalization_p_conv_layer5.output, loaded_model.output])\n",
    "\n",
    "model_activation_p_conv_layer1 = tf.keras.models.Model([loaded_model.inputs],[activation_p_conv_layer1.output, loaded_model.output])\n",
    "model_activation_p_conv_layer2 = tf.keras.models.Model([loaded_model.inputs],[activation_p_conv_layer2.output, loaded_model.output])\n",
    "model_activation_p_conv_layer3 = tf.keras.models.Model([loaded_model.inputs],[activation_p_conv_layer3.output, loaded_model.output])\n",
    "model_activation_p_conv_layer4 = tf.keras.models.Model([loaded_model.inputs],[activation_p_conv_layer4.output, loaded_model.output])\n",
    "model_activation_p_conv_layer5 = tf.keras.models.Model([loaded_model.inputs],[activation_p_conv_layer5.output, loaded_model.output])\n",
    "\n",
    "model_global_max_pooling1d_layer1 = tf.keras.models.Model([loaded_model.inputs],[global_max_pooling1d_layer1.output, loaded_model.output])\n",
    "model_global_max_pooling1d_layer2 = tf.keras.models.Model([loaded_model.inputs],[global_max_pooling1d_layer2.output, loaded_model.output])\n",
    "model_global_max_pooling1d_layer3 = tf.keras.models.Model([loaded_model.inputs],[global_max_pooling1d_layer3.output, loaded_model.output])\n",
    "model_global_max_pooling1d_layer4 = tf.keras.models.Model([loaded_model.inputs],[global_max_pooling1d_layer4.output, loaded_model.output])\n",
    "model_global_max_pooling1d_layer5 = tf.keras.models.Model([loaded_model.inputs],[global_max_pooling1d_layer5.output, loaded_model.output])\n",
    "\n",
    "\n",
    "model_concatenate_p_layers = tf.keras.models.Model([loaded_model.inputs],[concatenate_p_layers.output, loaded_model.output])\n",
    "model_dense_layer_3 = tf.keras.models.Model([loaded_model.inputs],[dense_layer_3.output, loaded_model.output])\n",
    "model_batch_normalization_p_layer8 = tf.keras.models.Model([loaded_model.inputs],[batch_normalization_p_layer8.output, loaded_model.output])\n",
    "model_activation_p_conv_layer8 =  tf.keras.models.Model([loaded_model.inputs],[activation_p_conv_layer8.output, loaded_model.output])\n",
    "model_dropout_p_layer = tf.keras.models.Model([loaded_model.inputs],[dropout_p_layer.output, loaded_model.output])\n",
    "\n",
    "\n",
    "model_dense_layer_1_mol = tf.keras.models.Model([loaded_model.inputs],[dense_layer_1_mol.output, loaded_model.output])\n",
    "model_batch_normalization_c_layer1 = tf.keras.models.Model([loaded_model.inputs],[batch_normalization_c_layer1.output, loaded_model.output])\n",
    "model_activation_c_layer1 = tf.keras.models.Model([loaded_model.inputs],[activation_c_layer1.output, loaded_model.output])\n",
    "model_dropout_c_layer1 = tf.keras.models.Model([loaded_model.inputs],[dropout_c_layer1.output, loaded_model.output])\n",
    "\n",
    "model_dense_layer_2 = tf.keras.models.Model([loaded_model.inputs],[dense_layer_2.output, loaded_model.output])\n",
    "model_batch_normalization_c_layer2 = tf.keras.models.Model([loaded_model.inputs],[batch_normalization_c_layer2.output, loaded_model.output])\n",
    "model_activation_c_layer2 = tf.keras.models.Model([loaded_model.inputs],[activation_c_layer2.output, loaded_model.output])\n",
    "model_dropout_c_layer2 = tf.keras.models.Model([loaded_model.inputs],[dropout_c_layer2.output, loaded_model.output])\n",
    "\n",
    "model_concatenate_layers_final = tf.keras.models.Model([loaded_model.inputs],[concatenate_layers_final.output, loaded_model.output])\n",
    "model_dense_layer_final = tf.keras.models.Model([loaded_model.inputs],[dense_layer_final.output, loaded_model.output])\n",
    "model_batch_normalization_layer_final = tf.keras.models.Model([loaded_model.inputs],[batch_normalization_layer_final.output, loaded_model.output])\n",
    "model_activation_layer_final = tf.keras.models.Model([loaded_model.inputs],[activation_layer_final.output, loaded_model.output])\n",
    "model_dense_layer_final_5 = tf.keras.models.Model([loaded_model.inputs],[dense_layer_final_5.output, loaded_model.output])\n",
    "model_lambda_layer = tf.keras.models.Model([loaded_model.inputs],[lambda_layer.output, loaded_model.output])"
   ]
  },
  {
   "cell_type": "code",
   "execution_count": 20,
   "id": "f02e8b78-8dd4-4f3a-b9ce-0e972796ea8f",
   "metadata": {},
   "outputs": [],
   "source": [
    "\n",
    "data = [cfeat, pf]"
   ]
  },
  {
   "cell_type": "code",
   "execution_count": 21,
   "id": "c8b3d4e2-3f7d-4c8b-a7b6-23818f3fc770",
   "metadata": {},
   "outputs": [],
   "source": [
    "def grad_cam(layer_name, data):\n",
    "    grad_model = tf.keras.models.Model(\n",
    "        [model.inputs], [model.get_layer(layer_name).output, model.output]\n",
    "    )\n",
    "    last_conv_layer_output, preds = grad_model(data)\n",
    "\n",
    "    with tf.GradientTape() as tape:\n",
    "        last_conv_layer_output, preds = grad_model(data)\n",
    "        pred_index = tf.argmax(preds[0])\n",
    "        class_channel = preds[:, pred_index]\n",
    "\n",
    "    grads = tape.gradient(class_channel, last_conv_layer_output)\n",
    "\n",
    "    pooled_grads = tf.reduce_mean(grads, axis=(0))\n",
    "\n",
    "    last_conv_layer_output = last_conv_layer_output[0]\n",
    "\n",
    "    heatmap = last_conv_layer_output * pooled_grads\n",
    "    \n",
    "    return heatmap\n",
    "\n"
   ]
  },
  {
   "cell_type": "code",
   "execution_count": 65,
   "id": "4e5d4212",
   "metadata": {},
   "outputs": [],
   "source": [
    "nzix = np.nonzero(pf[0])[0]"
   ]
  },
  {
   "cell_type": "code",
   "execution_count": null,
   "id": "1384fde4",
   "metadata": {},
   "outputs": [],
   "source": []
  },
  {
   "cell_type": "code",
   "execution_count": 22,
   "id": "f26780c8-1403-4076-8826-edfa4fa0d1a6",
   "metadata": {},
   "outputs": [],
   "source": [
    "embed = grad_cam('embedding', data)\n",
    "# sdp_1 = grad_cam('spatial_dropout1d', data)\n",
    "\n",
    "# dense = grad_cam('dense', data)\n",
    "\n",
    "# BN2 = grad_cam('batch_normalization_2', data) \n",
    "# BN3 = grad_cam('batch_normalization_3', data) \n",
    "# BN4 = grad_cam('batch_normalization_4', data) \n",
    "# BN5 = grad_cam('batch_normalization_5', data) \n",
    "# BN6 = grad_cam('batch_normalization_6', data)\n",
    "\n",
    "\n",
    "# AT2 = grad_cam('activation_2', data) \n",
    "# AT3 = grad_cam('activation_3', data) \n",
    "# AT4 = grad_cam('activation_4', data) \n",
    "# AT5 = grad_cam('activation_5', data) \n",
    "# AT6 = grad_cam('activation_6', data)\n",
    "\n",
    "\n",
    "conv1d_gcam_out = grad_cam('conv1d', data)\n",
    "conv1d_gcam_out1 = grad_cam('conv1d_1', data)\n",
    "conv1d_gcam_out2 = grad_cam('conv1d_2', data)\n",
    "conv1d_gcam_out3 = grad_cam('conv1d_3', data)\n",
    "conv1d_gcam_out4 = grad_cam('conv1d_4', data)\n",
    "\n",
    "\n",
    "# gmp2 = grad_cam('global_max_pooling1d', data) \n",
    "# gmp3 = grad_cam('global_max_pooling1d_1', data) \n",
    "# gmp4 = grad_cam('global_max_pooling1d_2', data) \n",
    "# gmp5 = grad_cam('global_max_pooling1d_3', data) \n",
    "# gmp6 = grad_cam('global_max_pooling1d_4', data)\n",
    "\n",
    "\n",
    "# concat = grad_cam('concatenate', data)\n",
    "# concat2 = grad_cam('concatenate_1', data)\n",
    "\n",
    "\n"
   ]
  },
  {
   "cell_type": "code",
   "execution_count": 23,
   "id": "8438d11a-0820-4b56-9eb1-352efe5283c3",
   "metadata": {},
   "outputs": [],
   "source": [
    "# nzix = np.nonzero(embed)[1]"
   ]
  },
  {
   "cell_type": "code",
   "execution_count": null,
   "id": "5c659be1",
   "metadata": {},
   "outputs": [],
   "source": []
  },
  {
   "cell_type": "code",
   "execution_count": null,
   "id": "c349c1bd-dc87-4f76-9bb6-69abfff5844e",
   "metadata": {},
   "outputs": [],
   "source": [
    "cond1d_grad_cam_layer_out = conv1d_gcam_out[0][nzix]\n",
    "cond1d_grad_cam_layer_out1 = conv1d_gcam_out1[0][nzix]\n",
    "cond1d_grad_cam_layer_out2 = conv1d_gcam_out2[0][nzix]\n",
    "cond1d_grad_cam_layer_out3 = conv1d_gcam_out3[0][nzix]\n",
    "cond1d_grad_cam_layer_out4 = conv1d_gcam_out4[0][nzix]"
   ]
  },
  {
   "cell_type": "code",
   "execution_count": 67,
   "id": "d3c47728-0fd7-49eb-932b-44bb583a4f73",
   "metadata": {},
   "outputs": [],
   "source": [
    "cond1d_grad_cam_layer_out = conv1d_gcam_out[0]\n",
    "cond1d_grad_cam_layer_out1 = conv1d_gcam_out1[0]\n",
    "cond1d_grad_cam_layer_out2 = conv1d_gcam_out2[0]\n",
    "cond1d_grad_cam_layer_out3 = conv1d_gcam_out3[0]\n",
    "cond1d_grad_cam_layer_out4 = conv1d_gcam_out4[0]\n"
   ]
  },
  {
   "cell_type": "code",
   "execution_count": 73,
   "id": "491475c9",
   "metadata": {},
   "outputs": [],
   "source": [
    "cv = np.mean(conv1d_gcam_out, axis = 1)\n",
    "cv1 = np.mean(conv1d_gcam_out1, axis = 1)\n",
    "cv2 = np.mean(conv1d_gcam_out2, axis = 1)\n",
    "cv3 = np.mean(conv1d_gcam_out3, axis = 1)\n",
    "cv4 = np.mean(conv1d_gcam_out4, axis = 1)"
   ]
  },
  {
   "cell_type": "code",
   "execution_count": 77,
   "id": "b34b6ca0",
   "metadata": {},
   "outputs": [],
   "source": [
    "cvsq = cv[nzix]\n",
    "cvsq1 = cv1[nzix]\n",
    "cvsq2 = cv2[nzix]\n",
    "cvsq3 = cv3[nzix]\n",
    "cvsq4 = cv4[nzix]\n"
   ]
  },
  {
   "cell_type": "code",
   "execution_count": 78,
   "id": "19235b99",
   "metadata": {},
   "outputs": [
    {
     "name": "stdout",
     "output_type": "stream",
     "text": [
      "50\n",
      "54\n",
      "253\n",
      "44\n",
      "60\n",
      "253\n",
      "46\n",
      "56\n",
      "255\n",
      "64\n",
      "45\n",
      "248\n",
      "64\n",
      "42\n",
      "251\n"
     ]
    }
   ],
   "source": [
    "print(len(cvsq[cvsq < 0]))\n",
    "print(len(cvsq[cvsq > 0]))\n",
    "print(len(cvsq[cvsq == 0]))\n",
    "\n",
    "print(len(cvsq1[cvsq1 < 0]))\n",
    "print(len(cvsq1[cvsq1 > 0]))\n",
    "print(len(cvsq1[cvsq1 == 0]))\n",
    "\n",
    "print(len(cvsq2[cvsq2 < 0]))\n",
    "print(len(cvsq2[cvsq2 > 0]))\n",
    "print(len(cvsq2[cvsq2 == 0]))\n",
    "\n",
    "print(len(cvsq3[cvsq3 < 0]))\n",
    "print(len(cvsq3[cvsq3 > 0]))\n",
    "print(len(cvsq3[cvsq3 == 0]))\n",
    "\n",
    "print(len(cvsq4[cvsq4 < 0]))\n",
    "print(len(cvsq4[cvsq4 > 0]))\n",
    "print(len(cvsq4[cvsq4 == 0]))\n",
    "\n"
   ]
  },
  {
   "cell_type": "code",
   "execution_count": 79,
   "id": "77c51725",
   "metadata": {},
   "outputs": [],
   "source": [
    "ind_conv1d = np.argpartition(cvsq, -10)[-10:]\n",
    "ind_conv1d1 = np.argpartition(cvsq1, -10)[-10:]\n",
    "ind_conv1d2 = np.argpartition(cvsq2, -10)[-10:]\n",
    "ind_conv1d3 = np.argpartition(cvsq3, -10)[-10:]\n",
    "ind_conv1d4 = np.argpartition(cvsq4, -10)[-10:]"
   ]
  },
  {
   "cell_type": "code",
   "execution_count": 80,
   "id": "862ca2e6",
   "metadata": {},
   "outputs": [],
   "source": [
    "ind_concat = np.concatenate((ind_conv1d, ind_conv1d1, ind_conv1d2, ind_conv1d3, ind_conv1d4))\n",
    "conv_concat = np.concatenate((cvsq[ind_conv1d], cvsq1[ind_conv1d1], cvsq2[ind_conv1d2], cvsq3[ind_conv1d3], cvsq4[ind_conv1d4]))"
   ]
  },
  {
   "cell_type": "code",
   "execution_count": 81,
   "id": "4d60d59a-c5ec-42ad-8fae-359bd8ab1a41",
   "metadata": {},
   "outputs": [],
   "source": [
    "top_ten_conv_concat = np.argpartition(conv_concat, -10)[-10:]"
   ]
  },
  {
   "cell_type": "code",
   "execution_count": 82,
   "id": "eab8dfc6",
   "metadata": {},
   "outputs": [
    {
     "data": {
      "text/plain": [
       "array([18, 39, 38, 36, 35, 28, 46, 47, 48, 49])"
      ]
     },
     "execution_count": 82,
     "metadata": {},
     "output_type": "execute_result"
    }
   ],
   "source": [
    "top_ten_conv_concat"
   ]
  },
  {
   "cell_type": "code",
   "execution_count": 83,
   "id": "b100502b",
   "metadata": {},
   "outputs": [
    {
     "data": {
      "text/plain": [
       "array([3.0175121e-05, 7.8499113e-05, 3.6126577e-05, 4.1668634e-05,\n",
       "       3.9079670e-05, 5.2794952e-05, 3.2339864e-05, 3.4755274e-05,\n",
       "       4.2628933e-05, 3.8687893e-05], dtype=float32)"
      ]
     },
     "execution_count": 83,
     "metadata": {},
     "output_type": "execute_result"
    }
   ],
   "source": [
    "conv_concat[top_ten_conv_concat]"
   ]
  },
  {
   "cell_type": "code",
   "execution_count": 85,
   "id": "fe52eb09",
   "metadata": {},
   "outputs": [
    {
     "data": {
      "text/plain": [
       "array([249, 279, 256, 246, 249, 148,   6, 123, 293,  90])"
      ]
     },
     "execution_count": 85,
     "metadata": {},
     "output_type": "execute_result"
    }
   ],
   "source": [
    "ind_concat[top_ten_conv_concat]"
   ]
  },
  {
   "cell_type": "code",
   "execution_count": null,
   "id": "277e3de8",
   "metadata": {},
   "outputs": [],
   "source": []
  },
  {
   "cell_type": "code",
   "execution_count": null,
   "id": "99bfdbad",
   "metadata": {},
   "outputs": [],
   "source": []
  },
  {
   "cell_type": "code",
   "execution_count": null,
   "id": "f04267fd",
   "metadata": {},
   "outputs": [],
   "source": []
  },
  {
   "cell_type": "code",
   "execution_count": null,
   "id": "2e7072b6",
   "metadata": {},
   "outputs": [],
   "source": []
  },
  {
   "cell_type": "code",
   "execution_count": 52,
   "id": "e774a1f4-ea0e-48c5-b8cc-ceafe9235d50",
   "metadata": {},
   "outputs": [],
   "source": [
    "prot_some = pf[0][nzix]"
   ]
  },
  {
   "cell_type": "code",
   "execution_count": 76,
   "id": "0e41d7ea-7f1c-44cc-94cd-fb2ecab11021",
   "metadata": {},
   "outputs": [],
   "source": [
    "prot_some1 = prot_some[26:]\n",
    "embsome = embedings[26:]\n",
    "cond1d_some = cond1d_grad_cam_layer_out[26:]\n",
    "cond1d_some1 = cond1d_grad_cam_layer_out1[26:]\n",
    "cond1d_some2 = cond1d_grad_cam_layer_out2[26:]\n",
    "cond1d_some3 = cond1d_grad_cam_layer_out3[26:]\n",
    "cond1d_some4 = cond1d_grad_cam_layer_out4[26:]\n"
   ]
  },
  {
   "cell_type": "code",
   "execution_count": 87,
   "id": "9df6757d-ad9b-4a88-afc1-6faaa9ac3c17",
   "metadata": {},
   "outputs": [],
   "source": [
    "mean_conv_sc = np.mean([cond1d_some, cond1d_some1,cond1d_some2,cond1d_some3,cond1d_some4], axis = 0)"
   ]
  },
  {
   "cell_type": "code",
   "execution_count": 288,
   "id": "70415fc1",
   "metadata": {},
   "outputs": [
    {
     "data": {
      "text/plain": [
       "array([ 39, 249, 111, 228,  98,  60, 220,   5, 280,  91])"
      ]
     },
     "execution_count": 288,
     "metadata": {},
     "output_type": "execute_result"
    }
   ],
   "source": [
    "mean_idx = np.argpartition(mean_conv_sc, -10)[-10:]"
   ]
  },
  {
   "cell_type": "code",
   "execution_count": null,
   "id": "d282e5a1",
   "metadata": {},
   "outputs": [],
   "source": []
  },
  {
   "cell_type": "code",
   "execution_count": null,
   "id": "ffc36a80",
   "metadata": {},
   "outputs": [],
   "source": []
  },
  {
   "cell_type": "code",
   "execution_count": 195,
   "id": "518d1e50",
   "metadata": {},
   "outputs": [
    {
     "name": "stdout",
     "output_type": "stream",
     "text": [
      "57\n",
      "48\n",
      "205\n",
      "54\n",
      "52\n",
      "204\n",
      "52\n",
      "52\n",
      "206\n",
      "53\n",
      "56\n",
      "201\n",
      "62\n",
      "41\n",
      "207\n"
     ]
    }
   ],
   "source": [
    "print(len(cond1d_some[cond1d_some < 0]))\n",
    "print(len(cond1d_some[cond1d_some > 0]))\n",
    "print(len(cond1d_some[cond1d_some == 0]))\n",
    "\n",
    "print(len(cond1d_some1[cond1d_some1 < 0]))\n",
    "print(len(cond1d_some1[cond1d_some1 > 0]))\n",
    "print(len(cond1d_some1[cond1d_some1 == 0]))\n",
    "\n",
    "print(len(cond1d_some2[cond1d_some2 < 0]))\n",
    "print(len(cond1d_some2[cond1d_some2 > 0]))\n",
    "print(len(cond1d_some2[cond1d_some2 == 0]))\n",
    "\n",
    "print(len(cond1d_some3[cond1d_some3 < 0]))\n",
    "print(len(cond1d_some3[cond1d_some3 > 0]))\n",
    "print(len(cond1d_some3[cond1d_some3 == 0]))\n",
    "\n",
    "print(len(cond1d_some4[cond1d_some4 < 0]))\n",
    "print(len(cond1d_some4[cond1d_some4 > 0]))\n",
    "print(len(cond1d_some4[cond1d_some4 == 0]))\n"
   ]
  },
  {
   "cell_type": "code",
   "execution_count": 198,
   "id": "fd039a1c",
   "metadata": {},
   "outputs": [
    {
     "data": {
      "text/plain": [
       "array([6.89880471e-05, 9.02586471e-05, 1.44859514e-05, 2.88987212e-04,\n",
       "       2.61039022e-05, 5.83273322e-05, 8.97522405e-05, 4.62487878e-05,\n",
       "       4.39029009e-06, 2.43478440e-04, 2.24792821e-04, 1.39082229e-04,\n",
       "       3.87138753e-05, 5.37570377e-05, 1.22335296e-05, 1.78441594e-04,\n",
       "       1.00331701e-04, 3.71097340e-05, 1.08524451e-04, 1.83848009e-04,\n",
       "       8.35286846e-05, 4.52958557e-05, 2.41533053e-05, 7.43483397e-05,\n",
       "       1.94965367e-04, 4.06891595e-05, 5.86115566e-05, 7.60363328e-05,\n",
       "       5.11847975e-06, 1.42922319e-04, 1.89292492e-04, 8.85115605e-06,\n",
       "       6.91708628e-05, 7.62780546e-05, 1.22126032e-04, 1.03066566e-04,\n",
       "       1.89249131e-05, 1.34930679e-05, 3.65351647e-04, 1.54056790e-04,\n",
       "       1.20255609e-04, 1.39371696e-04, 1.36944887e-04, 1.46727698e-05,\n",
       "       1.41397641e-05, 1.90509600e-05, 1.86529593e-04, 3.43362590e-05],\n",
       "      dtype=float32)"
      ]
     },
     "execution_count": 198,
     "metadata": {},
     "output_type": "execute_result"
    }
   ],
   "source": [
    "cond1d_some[cond1d_some > 0]"
   ]
  },
  {
   "cell_type": "code",
   "execution_count": 237,
   "id": "75d9d2a7",
   "metadata": {},
   "outputs": [],
   "source": [
    "cvl = list(cond1d_some)"
   ]
  },
  {
   "cell_type": "code",
   "execution_count": 255,
   "id": "a42f6920",
   "metadata": {},
   "outputs": [],
   "source": [
    "ind = np.argpartition(cond1d_some, -10)[-10:]\n",
    "ind5 = np.argpartition(cond1d_some, -5)[-5:]"
   ]
  },
  {
   "cell_type": "code",
   "execution_count": 262,
   "id": "a5e6c9e0",
   "metadata": {},
   "outputs": [],
   "source": [
    "ind_conv1d = np.argpartition(cond1d_some, -10)[-10:]\n",
    "ind_conv1d1 = np.argpartition(cond1d_some1, -10)[-10:]\n",
    "ind_conv1d2 = np.argpartition(cond1d_some2, -10)[-10:]\n",
    "ind_conv1d3 = np.argpartition(cond1d_some3, -10)[-10:]\n",
    "ind_conv1d4 = np.argpartition(cond1d_some4, -10)[-10:]"
   ]
  },
  {
   "cell_type": "code",
   "execution_count": 268,
   "id": "ff58ab68",
   "metadata": {},
   "outputs": [],
   "source": [
    "ind_concat = np.concatenate((ind_conv1d, ind_conv1d1, ind_conv1d2, ind_conv1d3, ind_conv1d4))\n",
    "conv_concat = np.concatenate((cond1d_some[ind_conv1d], cond1d_some1[ind_conv1d1], cond1d_some2[ind_conv1d2], cond1d_some3[ind_conv1d3], cond1d_some4[ind_conv1d4]))"
   ]
  },
  {
   "cell_type": "code",
   "execution_count": 278,
   "id": "30fc38d9",
   "metadata": {},
   "outputs": [
    {
     "data": {
      "text/plain": [
       "array([  2,  32,   9, 190, 290,  60, 249, 275,   8,  29])"
      ]
     },
     "execution_count": 278,
     "metadata": {},
     "output_type": "execute_result"
    }
   ],
   "source": [
    "ind_conv1d1"
   ]
  },
  {
   "cell_type": "code",
   "execution_count": 279,
   "id": "0ee438c6",
   "metadata": {},
   "outputs": [
    {
     "name": "stdout",
     "output_type": "stream",
     "text": [
      "[  2  32   9 190 290  60 249 275   8  29]\n",
      "['K', 'D', 'G', 'T', 'W', 'I', 'E', 'G', 'G', 'I']\n",
      "[ 55  41  67  40 193  12 252  89 144 111]\n",
      "['D', 'N', 'V', 'K', 'T', 'F', 'Y', 'I', 'C', 'M']\n",
      "[142 228 231  70  87 127  91 220 280 264]\n",
      "['R', 'R', 'N', 'I', 'V', 'P', 'L', 'I', 'D', 'I']\n",
      "[120 301 249 260 198  60   5  94 132  39]\n",
      "['Y', 'E', 'E', 'T', 'G', 'I', 'L', 'T', 'Y', 'R']\n"
     ]
    }
   ],
   "source": [
    "cv1d = []\n",
    "for i in ind_conv1d1:\n",
    "    cv1d.append(seq[i])\n",
    "    \n",
    "print(ind_conv1d1)    \n",
    "print(cv1d)\n",
    "\n",
    "\n",
    "cv2d = []\n",
    "for i in ind_conv1d2:\n",
    "    cv2d.append(seq[i])\n",
    "    \n",
    "print(ind_conv1d2)    \n",
    "print(cv2d)\n",
    "\n",
    "\n",
    "cv3d = []\n",
    "for i in ind_conv1d3:\n",
    "    cv3d.append(seq[i])\n",
    "    \n",
    "print(ind_conv1d3)    \n",
    "print(cv3d)\n",
    "\n",
    "\n",
    "cv4d = []\n",
    "\n",
    "for i in ind_conv1d4:\n",
    "    cv4d.append(seq[i])\n",
    "    \n",
    "print(ind_conv1d4)    \n",
    "print(cv4d)\n",
    "\n",
    "\n",
    "\n",
    "\n",
    "    "
   ]
  },
  {
   "cell_type": "code",
   "execution_count": 289,
   "id": "8fa0d358",
   "metadata": {},
   "outputs": [
    {
     "data": {
      "text/plain": [
       "array([0.00015406, 0.00017844, 0.00018385, 0.00018653, 0.00018929,\n",
       "       0.00019497, 0.00036535, 0.00028899, 0.00022479, 0.00024348,\n",
       "       0.00027931, 0.00028577, 0.00030049, 0.00031757, 0.000304  ,\n",
       "       0.00032581, 0.00034078, 0.00036104, 0.000388  , 0.00038175,\n",
       "       0.00026582, 0.00028211, 0.0003007 , 0.00031099, 0.00036538,\n",
       "       0.00079888, 0.00036054, 0.00032808, 0.0003561 , 0.00069033,\n",
       "       0.00030032, 0.00033697, 0.00031022, 0.00031792, 0.00037654,\n",
       "       0.00053965, 0.0006153 , 0.00083298, 0.00064278, 0.00040014,\n",
       "       0.00042005, 0.00050182, 0.0006205 , 0.00050865, 0.00054285,\n",
       "       0.00049852, 0.00082508, 0.000594  , 0.00045236, 0.00088714],\n",
       "      dtype=float32)"
      ]
     },
     "execution_count": 289,
     "metadata": {},
     "output_type": "execute_result"
    }
   ],
   "source": [
    "conv_concat"
   ]
  },
  {
   "cell_type": "code",
   "execution_count": 290,
   "id": "5d672a56",
   "metadata": {},
   "outputs": [
    {
     "data": {
      "text/plain": [
       "array([227,  85,  98, 288, 175, 144, 221,  11,  69,  47,   2,  32,   9,\n",
       "       190, 290,  60, 249, 275,   8,  29,  55,  41,  67,  40, 193,  12,\n",
       "       252,  89, 144, 111, 142, 228, 231,  70,  87, 127,  91, 220, 280,\n",
       "       264, 120, 301, 249, 260, 198,  60,   5,  94, 132,  39])"
      ]
     },
     "execution_count": 290,
     "metadata": {},
     "output_type": "execute_result"
    }
   ],
   "source": [
    "ind_concat"
   ]
  },
  {
   "cell_type": "code",
   "execution_count": 292,
   "id": "f056899f",
   "metadata": {},
   "outputs": [
    {
     "data": {
      "text/plain": [
       "array([198, 280, 249,  94,  91, 111,   5,  12, 220,  39])"
      ]
     },
     "execution_count": 292,
     "metadata": {},
     "output_type": "execute_result"
    }
   ],
   "source": [
    "concat_top_ten_idx"
   ]
  },
  {
   "cell_type": "code",
   "execution_count": 293,
   "id": "7af69d2f",
   "metadata": {},
   "outputs": [
    {
     "data": {
      "text/plain": [
       "array([0.00054285, 0.00064278, 0.0006205 , 0.000594  , 0.0006153 ,\n",
       "       0.00069033, 0.00082508, 0.00079888, 0.00083298, 0.00088714],\n",
       "      dtype=float32)"
      ]
     },
     "execution_count": 293,
     "metadata": {},
     "output_type": "execute_result"
    }
   ],
   "source": [
    "conv_tt_concat"
   ]
  },
  {
   "cell_type": "code",
   "execution_count": 270,
   "id": "cb4a3e26",
   "metadata": {},
   "outputs": [],
   "source": [
    "top_ten_conv_concat = np.argpartition(conv_concat, -10)[-10:]"
   ]
  },
  {
   "cell_type": "code",
   "execution_count": 271,
   "id": "7587e5ed",
   "metadata": {},
   "outputs": [
    {
     "data": {
      "text/plain": [
       "array([44, 38, 42, 47, 36, 29, 46, 25, 37, 49])"
      ]
     },
     "execution_count": 271,
     "metadata": {},
     "output_type": "execute_result"
    }
   ],
   "source": [
    "top_ten_conv_concat"
   ]
  },
  {
   "cell_type": "code",
   "execution_count": 273,
   "id": "4f93fec9",
   "metadata": {},
   "outputs": [],
   "source": [
    "concat_top_ten_idx = ind_concat[top_ten_conv_concat]\n",
    "conv_tt_concat = conv_concat[top_ten_conv_concat]"
   ]
  },
  {
   "cell_type": "code",
   "execution_count": 274,
   "id": "240e1324",
   "metadata": {},
   "outputs": [
    {
     "data": {
      "text/plain": [
       "array([198, 280, 249,  94,  91, 111,   5,  12, 220,  39])"
      ]
     },
     "execution_count": 274,
     "metadata": {},
     "output_type": "execute_result"
    }
   ],
   "source": [
    "concat_top_ten_idx"
   ]
  },
  {
   "cell_type": "code",
   "execution_count": 280,
   "id": "44899f21",
   "metadata": {},
   "outputs": [
    {
     "data": {
      "text/plain": [
       "array([227,  85,  98, 288, 175, 144, 221,  11,  69,  47])"
      ]
     },
     "execution_count": 280,
     "metadata": {},
     "output_type": "execute_result"
    }
   ],
   "source": [
    "ind"
   ]
  },
  {
   "cell_type": "code",
   "execution_count": 294,
   "id": "615bdb27",
   "metadata": {},
   "outputs": [
    {
     "data": {
      "text/plain": [
       "[<matplotlib.lines.Line2D at 0x2b2563939970>]"
      ]
     },
     "execution_count": 294,
     "metadata": {},
     "output_type": "execute_result"
    },
    {
     "data": {
      "image/png": "[encoded data removed]",
      "text/plain": [
       "<Figure size 640x480 with 1 Axes>"
      ]
     },
     "metadata": {},
     "output_type": "display_data"
    }
   ],
   "source": [
    "plt.figure()\n",
    "plt.ylim([0,0.0005])\n",
    "plt.plot(cond1d_some)"
   ]
  },
  {
   "cell_type": "code",
   "execution_count": 281,
   "id": "e729c106",
   "metadata": {},
   "outputs": [
    {
     "data": {
      "text/plain": [
       "[<matplotlib.lines.Line2D at 0x2b2561911e50>]"
      ]
     },
     "execution_count": 281,
     "metadata": {},
     "output_type": "execute_result"
    },
    {
     "data": {
      "image/png": "[encoded data removed]",
      "text/plain": [
       "<Figure size 640x480 with 1 Axes>"
      ]
     },
     "metadata": {},
     "output_type": "display_data"
    }
   ],
   "source": [
    "plt.plot(cond1d_some)"
   ]
  },
  {
   "cell_type": "code",
   "execution_count": 277,
   "id": "4e95aceb",
   "metadata": {},
   "outputs": [
    {
     "data": {
      "text/plain": [
       "['G', 'D', 'E', 'T', 'L', 'M', 'L', 'F', 'I', 'R']"
      ]
     },
     "execution_count": 277,
     "metadata": {},
     "output_type": "execute_result"
    }
   ],
   "source": [
    "concat_pos_inf = []\n",
    "for i in concat_top_ten_idx:\n",
    "    concat_pos_inf.append(seq[i])\n",
    "    \n",
    "concat_pos_inf\n",
    "    "
   ]
  },
  {
   "cell_type": "code",
   "execution_count": 254,
   "id": "a887c28a",
   "metadata": {
    "scrolled": true
   },
   "outputs": [
    {
     "data": {
      "text/plain": [
       "array([11,  5, 16,  3, 13,  9, 15, 19, 16, 14], dtype=int32)"
      ]
     },
     "execution_count": 254,
     "metadata": {},
     "output_type": "execute_result"
    }
   ],
   "source": [
    "pf[0][nzix][26:][ind]"
   ]
  },
  {
   "cell_type": "code",
   "execution_count": 296,
   "id": "40db85e6",
   "metadata": {},
   "outputs": [],
   "source": [
    "def reluprime(x):\n",
    "    return np.where(x > 0, x, 0.0)"
   ]
  },
  {
   "cell_type": "code",
   "execution_count": 297,
   "id": "054ff460",
   "metadata": {},
   "outputs": [],
   "source": [
    "relu_cv = reluprime(cond1d_some)"
   ]
  },
  {
   "cell_type": "code",
   "execution_count": 299,
   "id": "6f170776",
   "metadata": {},
   "outputs": [],
   "source": [
    "relu_cv_norm = (relu_cv - np.min(relu_cv))/(np.max(relu_cv) - np.min(relu_cv))"
   ]
  },
  {
   "cell_type": "code",
   "execution_count": 300,
   "id": "8242ceef",
   "metadata": {},
   "outputs": [
    {
     "data": {
      "text/plain": [
       "[<matplotlib.lines.Line2D at 0x2b2563963a00>]"
      ]
     },
     "execution_count": 300,
     "metadata": {},
     "output_type": "execute_result"
    },
    {
     "data": {
      "image/png": "[encoded data removed]",
      "text/plain": [
       "<Figure size 640x480 with 1 Axes>"
      ]
     },
     "metadata": {},
     "output_type": "display_data"
    }
   ],
   "source": [
    "plt.plot(relu_cv_norm\n",
    "        )"
   ]
  },
  {
   "cell_type": "code",
   "execution_count": 301,
   "id": "316ad6e6",
   "metadata": {},
   "outputs": [],
   "source": [
    "overall = np.concatenate([cond1d_some, cond1d_some1, cond1d_some2, cond1d_some3, cond1d_some4])"
   ]
  },
  {
   "cell_type": "code",
   "execution_count": 304,
   "id": "32ae855d",
   "metadata": {},
   "outputs": [
    {
     "data": {
      "text/plain": [
       "[<matplotlib.lines.Line2D at 0x2b2563acf190>]"
      ]
     },
     "execution_count": 304,
     "metadata": {},
     "output_type": "execute_result"
    },
    {
     "data": {
      "image/png": "[encoded data removed]",
      "text/plain": [
       "<Figure size 640x480 with 1 Axes>"
      ]
     },
     "metadata": {},
     "output_type": "display_data"
    }
   ],
   "source": [
    "overall_relu = reluprime(overall)\n",
    "overall_relu_norm = (overall_relu - np.min(overall_relu))/(np.max(overall_relu) - np.min(overall_relu))\n",
    "plt.plot(overall_relu_norm)"
   ]
  },
  {
   "cell_type": "code",
   "execution_count": 203,
   "id": "d670112c",
   "metadata": {},
   "outputs": [],
   "source": [
    "pos_cv = np.nonzero(relu_cv)"
   ]
  },
  {
   "cell_type": "code",
   "execution_count": 221,
   "id": "55d90678",
   "metadata": {},
   "outputs": [],
   "source": [
    "pos_cv_inf_ls = list(pos_cv[0])"
   ]
  },
  {
   "cell_type": "code",
   "execution_count": 226,
   "id": "080a7b9c",
   "metadata": {},
   "outputs": [],
   "source": [
    "seq = pstr.split(':')[1]"
   ]
  },
  {
   "cell_type": "code",
   "execution_count": 246,
   "id": "297e1450",
   "metadata": {},
   "outputs": [],
   "source": [
    "pos_inf_list = []\n",
    "for i in ind:\n",
    "    pos_inf_list.append(seq[i])\n",
    "    "
   ]
  },
  {
   "cell_type": "code",
   "execution_count": 247,
   "id": "73ebfeaf",
   "metadata": {},
   "outputs": [
    {
     "data": {
      "text/plain": [
       "['M', 'F', 'R', 'L', 'T', 'C', 'E', 'G', 'R', 'D']"
      ]
     },
     "execution_count": 247,
     "metadata": {},
     "output_type": "execute_result"
    }
   ],
   "source": [
    "pos_inf_list"
   ]
  },
  {
   "cell_type": "code",
   "execution_count": 257,
   "id": "562749d0",
   "metadata": {},
   "outputs": [],
   "source": [
    "pos_inf_list5 = []\n",
    "for i in ind5:\n",
    "    pos_inf_list5.append(seq[i])\n",
    "    "
   ]
  },
  {
   "cell_type": "code",
   "execution_count": 259,
   "id": "8be74921-77cf-4a50-8aa7-fb2cbfe3fff8",
   "metadata": {},
   "outputs": [],
   "source": [
    "cv = cond1d_some.reshape((len(cond1d_some1), 1))\n",
    "cv1 = cond1d_some1.reshape((len(cond1d_some1), 1))\n",
    "cv2 = cond1d_some2.reshape((len(cond1d_some1), 1))\n",
    "cv3 = cond1d_some3.reshape((len(cond1d_some1), 1))\n",
    "cv4 = cond1d_some4.reshape((len(cond1d_some1), 1))\n",
    "mcv = mean_conv_sc.reshape((len(cond1d_some1), 1))"
   ]
  },
  {
   "cell_type": "code",
   "execution_count": 151,
   "id": "94a4ce4b-442f-415a-8cf5-7d04cdf7a781",
   "metadata": {},
   "outputs": [],
   "source": [
    "cvp1 = model_conv1d_layer1(data)[0][0].numpy()\n",
    "cvp2 = model_conv1d_layer2(data)[0][0].numpy()\n",
    "cvp3 = model_conv1d_layer3(data)[0][0].numpy()\n",
    "cvp4 = model_conv1d_layer4(data)[0][0].numpy()\n",
    "cvp5 = model_conv1d_layer5(data)[0][0].numpy()"
   ]
  },
  {
   "cell_type": "code",
   "execution_count": null,
   "id": "872d4f95-e0d6-41d3-90fd-3c7cf42cf8e6",
   "metadata": {},
   "outputs": [],
   "source": []
  },
  {
   "cell_type": "code",
   "execution_count": 168,
   "id": "3dc6ac57-7434-4ce4-b57e-2b6a412ddf82",
   "metadata": {
    "scrolled": true
   },
   "outputs": [
    {
     "data": {
      "text/plain": [
       "0.016086426"
      ]
     },
     "execution_count": 168,
     "metadata": {},
     "output_type": "execute_result"
    }
   ],
   "source": [
    "np.max(mcvp1[nzix][26:])"
   ]
  },
  {
   "cell_type": "code",
   "execution_count": null,
   "id": "23a466cc-338b-42e6-9eb8-63ccb208cb37",
   "metadata": {},
   "outputs": [],
   "source": []
  }
 ],
 "metadata": {
  "kernelspec": {
   "display_name": "Python 3 (ipykernel)",
   "language": "python",
   "name": "python3"
  },
  "language_info": {
   "codemirror_mode": {
    "name": "ipython",
    "version": 3
   },
   "file_extension": ".py",
   "mimetype": "text/x-python",
   "name": "python",
   "nbconvert_exporter": "python",
   "pygments_lexer": "ipython3",
   "version": "3.8.8"
  }
 },
 "nbformat": 4,
 "nbformat_minor": 5
}
