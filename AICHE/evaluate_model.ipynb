{
 "cells": [
  {
   "cell_type": "code",
   "execution_count": 1,
   "id": "eacc8703",
   "metadata": {},
   "outputs": [],
   "source": [
    "import pandas as pd\n",
    "import numpy as np"
   ]
  },
  {
   "cell_type": "code",
   "execution_count": 2,
   "id": "dfa76140",
   "metadata": {},
   "outputs": [],
   "source": [
    "train_pred_dti_file = \"./enzpp_results/training_predictions25.csv\"\n",
    "\n",
    "train_pred_dti_df = pd.read_csv(train_pred_dti_file, skiprows=1, usecols=[0,1,2,3])\n",
    "\n",
    "train_pdti_df = train_pred_dti_df.sort_values(by=[\"Protein_ID\", \"Compound_ID\"]).drop_duplicates(subset = [\"Protein_ID\", \"Compound_ID\"], keep=False)"
   ]
  },
  {
   "cell_type": "code",
   "execution_count": 6,
   "id": "b21b3757",
   "metadata": {},
   "outputs": [
    {
     "data": {
      "text/plain": [
       "17830"
      ]
     },
     "execution_count": 6,
     "metadata": {},
     "output_type": "execute_result"
    }
   ],
   "source": [
    "len(train_pdti_df)"
   ]
  },
  {
   "cell_type": "code",
   "execution_count": 31,
   "id": "7f873d45",
   "metadata": {},
   "outputs": [],
   "source": [
    "threshold = 0.8"
   ]
  },
  {
   "cell_type": "code",
   "execution_count": 32,
   "id": "e8249684",
   "metadata": {},
   "outputs": [
    {
     "data": {
      "text/plain": [
       "0.61757163563385"
      ]
     },
     "execution_count": 32,
     "metadata": {},
     "output_type": "execute_result"
    }
   ],
   "source": [
    "pos_df = train_pdti_df.loc[train_pdti_df.label==1]\n",
    "sum(pos_df.predicted.values>threshold)/ len(pos_df)"
   ]
  },
  {
   "cell_type": "code",
   "execution_count": 33,
   "id": "171a28d8",
   "metadata": {},
   "outputs": [
    {
     "data": {
      "text/plain": [
       "0.9963886694504006"
      ]
     },
     "execution_count": 33,
     "metadata": {},
     "output_type": "execute_result"
    }
   ],
   "source": [
    "neg_df = train_pdti_df.loc[train_pdti_df.label==0]\n",
    "sum(neg_df.predicted.values<=threshold)/ len(neg_df)"
   ]
  },
  {
   "cell_type": "code",
   "execution_count": 25,
   "id": "6b7c8541",
   "metadata": {},
   "outputs": [],
   "source": [
    "\n",
    "def evaluate_models(directory, pred_file, threshold):\n",
    "    pred_dti_df = pd.read_csv(directory+pred_file, skiprows=1, usecols=[0,1,2,3])\n",
    "    pdti_df = pred_dti_df.sort_values(by=[\"Protein_ID\", \"Compound_ID\"]).drop_duplicates(subset = [\"Protein_ID\", \"Compound_ID\"], keep=False)\n",
    "    \n",
    "    pos_df = pdti_df.loc[pdti_df.label==1]\n",
    "    pos_pred = sum(pos_df.predicted.values>threshold)/ len(pos_df)\n",
    "    \n",
    "    neg_df = pdti_df.loc[pdti_df.label==0]\n",
    "    neg_pred = sum(neg_df.predicted.values<=threshold)/ len(neg_df)\n",
    "    \n",
    "    if len(pred_file.split('_')) == 7:\n",
    "        split_name = pred_file.split('.')[0].split('_')\n",
    "        epoch = split_name[3]\n",
    "        dropoutProbability = split_name[-2] + '.' + split_name[-1]\n",
    "        dataType = split_name[0]\n",
    "\n",
    "    elif len(pred_file.split('_')) == 6:\n",
    "        split_name = pred_file.split('.')[0].split('_')\n",
    "        epoch = split_name[3]\n",
    "        dropoutProbability = split_name[-1]\n",
    "        dataType = split_name[0]\n",
    "        \n",
    "        \n",
    "#     epoch = temp1\n",
    "#     dropoutProbability = temp2\n",
    "#     dataType = temp3\n",
    "    \n",
    "    \n",
    "    return(pos_pred, neg_pred, epoch, dropoutProbability, dataType)\n",
    "    "
   ]
  },
  {
   "cell_type": "code",
   "execution_count": 16,
   "id": "2d516302-7994-4ac1-a059-51ace5299772",
   "metadata": {},
   "outputs": [],
   "source": [
    "def test_f(pred_file):\n",
    "    if len(pred_file.split('_')) == 7:\n",
    "        split_name = pred_file.split('.')[0].split('_')\n",
    "        n_epoch = split_name[3]\n",
    "        drop = split_name[-2] + '.' + split_name[-1]\n",
    "        data_type = split_name[0]\n",
    "    elif len(pred_file.split('_')) == 6:\n",
    "        split_name = pred_file.split('.')[0].split('_')\n",
    "        n_epoch = split_name[3]\n",
    "        drop = split_name[-1]\n",
    "        data_type = split_name[0]\n",
    "    \n",
    "    return n_epoch, drop, data_type"
   ]
  },
  {
   "cell_type": "code",
   "execution_count": 34,
   "id": "7939917d-db5e-43b2-a9a5-af18a30fcf16",
   "metadata": {},
   "outputs": [],
   "source": [
    "csv_f = ('./CNN_results/Hyp_opt/epochs/predictions/*.csv')"
   ]
  },
  {
   "cell_type": "code",
   "execution_count": 3,
   "id": "4528d9fd-aad4-41dc-9bd4-04f01d89a9ea",
   "metadata": {},
   "outputs": [],
   "source": [
    "import os"
   ]
  },
  {
   "cell_type": "code",
   "execution_count": 4,
   "id": "6102da06-ffa6-497d-93b9-814e09d07653",
   "metadata": {},
   "outputs": [],
   "source": [
    "csv_file_list = os.listdir('./CNN_results/Hyp_opt/epochs/predictions/')"
   ]
  },
  {
   "cell_type": "code",
   "execution_count": 5,
   "id": "e70c4055-9fa3-4eea-8213-257d24a8885b",
   "metadata": {},
   "outputs": [
    {
     "data": {
      "text/plain": [
       "'test_prediction_epoch_25_dp_0_3.csv'"
      ]
     },
     "execution_count": 5,
     "metadata": {},
     "output_type": "execute_result"
    }
   ],
   "source": [
    "csv_file_list[200]"
   ]
  },
  {
   "cell_type": "code",
   "execution_count": 29,
   "id": "ea53b684-03f8-40ef-a374-f46ecb6ad317",
   "metadata": {},
   "outputs": [],
   "source": [
    "prediction_dir = './CNN_results/Hyp_opt/epochs/model_prediction/'\n",
    "\n"
   ]
  },
  {
   "cell_type": "code",
   "execution_count": 32,
   "id": "a7c93be0-704d-43f6-86b1-89ac1c8754b4",
   "metadata": {},
   "outputs": [],
   "source": [
    "z = !ls ./CNN_results/Hyp_opt/epochs/model_prediction/*.csv"
   ]
  },
  {
   "cell_type": "code",
   "execution_count": 39,
   "id": "ca5ee8bf-8838-47b8-9a3c-84ff3d123322",
   "metadata": {},
   "outputs": [
    {
     "data": {
      "text/plain": [
       "('10', '0', 'test')"
      ]
     },
     "execution_count": 39,
     "metadata": {},
     "output_type": "execute_result"
    }
   ],
   "source": [
    "test_f(z[0].split('/')[-1])"
   ]
  },
  {
   "cell_type": "code",
   "execution_count": 42,
   "id": "008bb5f8-ff0b-44b2-9bb0-c8274dc227a1",
   "metadata": {},
   "outputs": [],
   "source": [
    "def evaluate_models(pred_file_path, threshold):\n",
    "    pred_file = pred_file_path.split('/')[-1]\n",
    "    pred_dti_df = pd.read_csv(pred_file_path, skiprows=1, usecols=[0,1,2,3])\n",
    "    pdti_df = pred_dti_df.sort_values(by=[\"Protein_ID\", \"Compound_ID\"]).drop_duplicates(subset = [\"Protein_ID\", \"Compound_ID\"], keep=False)\n",
    "    \n",
    "    pos_df = pdti_df.loc[pdti_df.label==1]\n",
    "    pos_pred = sum(pos_df.predicted.values>threshold)/ len(pos_df)\n",
    "    \n",
    "    neg_df = pdti_df.loc[pdti_df.label==0]\n",
    "    neg_pred = sum(neg_df.predicted.values<=threshold)/ len(neg_df)\n",
    "    \n",
    "    if len(pred_file.split('_')) == 7:\n",
    "        split_name = pred_file.split('.')[0].split('_')\n",
    "        epoch = split_name[3]\n",
    "        dropoutProbability = split_name[-2] + '.' + split_name[-1]\n",
    "        dataType = split_name[0]\n",
    "\n",
    "    elif len(pred_file.split('_')) == 6:\n",
    "        split_name = pred_file.split('.')[0].split('_')\n",
    "        epoch = split_name[3]\n",
    "        dropoutProbability = split_name[-1]\n",
    "        dataType = split_name[0]\n",
    "        \n",
    "    return(pos_pred, neg_pred, epoch, dropoutProbability, dataType)\n",
    "    "
   ]
  },
  {
   "cell_type": "code",
   "execution_count": 48,
   "id": "098461f1-4684-4f13-af2e-12fd0e014e33",
   "metadata": {},
   "outputs": [],
   "source": [
    "[a,b,c,d, e] = evaluate_models(z[0], 0.5)"
   ]
  },
  {
   "cell_type": "code",
   "execution_count": 53,
   "id": "bf211120-15b8-4f69-8611-c1a9d71e05a7",
   "metadata": {},
   "outputs": [
    {
     "data": {
      "text/plain": [
       "True"
      ]
     },
     "execution_count": 53,
     "metadata": {},
     "output_type": "execute_result"
    }
   ],
   "source": [
    "e == 'test'"
   ]
  },
  {
   "cell_type": "code",
   "execution_count": null,
   "id": "cb830532-47ce-427c-8a6f-1eaf9f028666",
   "metadata": {},
   "outputs": [],
   "source": [
    "from tqdm import tqdm\n",
    "\n",
    "ep_list= []\n",
    "d_l = []\n",
    "dt_list = []\n",
    "for i in tqdm(csv_file_list):\n",
    "    n_e, d, dt = test_f(i)\n",
    "    ep_list.append(n_e)\n",
    "    d_l.append(d)\n",
    "    dt_list.append(dt)"
   ]
  },
  {
   "cell_type": "code",
   "execution_count": 62,
   "id": "fa0c2fdc-1b1f-41d8-98e1-a370ada7f794",
   "metadata": {},
   "outputs": [],
   "source": [
    "import sys"
   ]
  },
  {
   "cell_type": "code",
   "execution_count": 64,
   "id": "38a20969-cb38-494d-b551-e5c66d651b68",
   "metadata": {},
   "outputs": [],
   "source": [
    "sys.path.append('./CNN_results/Hyp_opt/epochs/predictions/')"
   ]
  },
  {
   "cell_type": "code",
   "execution_count": 8,
   "id": "b7e940d3-da4e-49a1-bea1-6b483fce6077",
   "metadata": {},
   "outputs": [],
   "source": [
    "dir_p  = './CNN_results/Hyp_opt/epochs/predictions/'"
   ]
  },
  {
   "cell_type": "code",
   "execution_count": 26,
   "id": "ae23f84b-0d1b-4a6c-993d-6f594ad15b70",
   "metadata": {},
   "outputs": [
    {
     "data": {
      "text/plain": [
       "(0.7162162162162162, 0.6945945945945946, '30', '0.3', 'test')"
      ]
     },
     "execution_count": 26,
     "metadata": {},
     "output_type": "execute_result"
    }
   ],
   "source": [
    "evaluate_models(dir_p, csv_file_list[210], 0.5)"
   ]
  },
  {
   "cell_type": "code",
   "execution_count": 11,
   "id": "0a1624e8",
   "metadata": {},
   "outputs": [],
   "source": [
    "[a, b] = evaluate_models(\"./enzpp_results/training_predictions25.csv\", 0.8)"
   ]
  },
  {
   "cell_type": "code",
   "execution_count": 13,
   "id": "798c3fbe",
   "metadata": {},
   "outputs": [
    {
     "data": {
      "text/plain": [
       "0.9963886694504006"
      ]
     },
     "execution_count": 13,
     "metadata": {},
     "output_type": "execute_result"
    }
   ],
   "source": [
    "b"
   ]
  },
  {
   "cell_type": "markdown",
   "id": "d05ed4fe",
   "metadata": {},
   "source": [
    "# Validation dataset evaluation"
   ]
  },
  {
   "cell_type": "code",
   "execution_count": 10,
   "id": "ee27d9fe",
   "metadata": {},
   "outputs": [],
   "source": [
    "predicted_dti_file = \"./enzpp_results/validation_predictions25.csv\"\n",
    "\n",
    "predicted_dti_df = pd.read_csv(predicted_dti_file, skiprows=1, usecols=[0,1,2,3])\n",
    "\n",
    "pdti_df = predicted_dti_df.sort_values(by=[\"Protein_ID\", \"Compound_ID\"]).drop_duplicates(subset = [\"Protein_ID\", \"Compound_ID\"], keep=False)"
   ]
  },
  {
   "cell_type": "code",
   "execution_count": 11,
   "id": "0ab0f76e",
   "metadata": {},
   "outputs": [
    {
     "data": {
      "text/plain": [
       "4458"
      ]
     },
     "execution_count": 11,
     "metadata": {},
     "output_type": "execute_result"
    }
   ],
   "source": [
    "len(pdti_df)"
   ]
  },
  {
   "cell_type": "markdown",
   "id": "0b6679b0",
   "metadata": {},
   "source": [
    "## Check positive accuracy"
   ]
  },
  {
   "cell_type": "code",
   "execution_count": 26,
   "id": "85e7634c",
   "metadata": {},
   "outputs": [],
   "source": [
    "threshold = 0.6268323"
   ]
  },
  {
   "cell_type": "code",
   "execution_count": 27,
   "id": "ba09c1c2",
   "metadata": {},
   "outputs": [
    {
     "data": {
      "text/html": [
       "<div>\n",
       "<style scoped>\n",
       "    .dataframe tbody tr th:only-of-type {\n",
       "        vertical-align: middle;\n",
       "    }\n",
       "\n",
       "    .dataframe tbody tr th {\n",
       "        vertical-align: top;\n",
       "    }\n",
       "\n",
       "    .dataframe thead th {\n",
       "        text-align: right;\n",
       "    }\n",
       "</style>\n",
       "<table border=\"1\" class=\"dataframe\">\n",
       "  <thead>\n",
       "    <tr style=\"text-align: right;\">\n",
       "      <th></th>\n",
       "      <th>predicted</th>\n",
       "      <th>Compound_ID</th>\n",
       "      <th>Protein_ID</th>\n",
       "      <th>label</th>\n",
       "    </tr>\n",
       "  </thead>\n",
       "  <tbody>\n",
       "    <tr>\n",
       "      <th>3442</th>\n",
       "      <td>0.300763</td>\n",
       "      <td>SUB-10275</td>\n",
       "      <td>A0A024FRL9</td>\n",
       "      <td>0</td>\n",
       "    </tr>\n",
       "    <tr>\n",
       "      <th>3441</th>\n",
       "      <td>0.337537</td>\n",
       "      <td>SUB-3995</td>\n",
       "      <td>A0A024FRL9</td>\n",
       "      <td>0</td>\n",
       "    </tr>\n",
       "  </tbody>\n",
       "</table>\n",
       "</div>"
      ],
      "text/plain": [
       "      predicted Compound_ID  Protein_ID  label\n",
       "3442   0.300763   SUB-10275  A0A024FRL9      0\n",
       "3441   0.337537    SUB-3995  A0A024FRL9      0"
      ]
     },
     "execution_count": 27,
     "metadata": {},
     "output_type": "execute_result"
    }
   ],
   "source": [
    "pdti_df.head(2)"
   ]
  },
  {
   "cell_type": "code",
   "execution_count": 34,
   "id": "4da6c63a",
   "metadata": {},
   "outputs": [
    {
     "data": {
      "text/plain": [
       "0.3729903536977492"
      ]
     },
     "execution_count": 34,
     "metadata": {},
     "output_type": "execute_result"
    }
   ],
   "source": [
    "pos_df = pdti_df.loc[pdti_df.label==1]\n",
    "sum(pos_df.predicted.values>threshold)/ len(pos_df)"
   ]
  },
  {
   "cell_type": "markdown",
   "id": "57616da8",
   "metadata": {},
   "source": [
    "## Check negative accuracy"
   ]
  },
  {
   "cell_type": "code",
   "execution_count": 35,
   "id": "2ec312fd",
   "metadata": {},
   "outputs": [
    {
     "data": {
      "text/plain": [
       "0.8895221394125383"
      ]
     },
     "execution_count": 35,
     "metadata": {},
     "output_type": "execute_result"
    }
   ],
   "source": [
    "neg_df = pdti_df.loc[pdti_df.label==0]\n",
    "sum(neg_df.predicted.values<=threshold)/ len(neg_df)"
   ]
  },
  {
   "cell_type": "markdown",
   "id": "8e567c3e",
   "metadata": {},
   "source": [
    "# Kegg test dataset evaluation"
   ]
  },
  {
   "cell_type": "code",
   "execution_count": 23,
   "id": "c462951a",
   "metadata": {},
   "outputs": [],
   "source": [
    "predicted_testdti_file = \"./epp_results/test_predictions25.csv\"\n",
    "\n",
    "predicted_testdti_df = pd.read_csv(predicted_testdti_file, skiprows=1, usecols=[0,1,2])\n",
    "\n",
    "pdtitest_df = predicted_testdti_df.sort_values(by=[\"Protein_ID\", \"Compound_ID\"]).drop_duplicates(subset = [\"Protein_ID\", \"Compound_ID\"], keep=False)"
   ]
  },
  {
   "cell_type": "code",
   "execution_count": 24,
   "id": "7d623220",
   "metadata": {},
   "outputs": [
    {
     "data": {
      "text/html": [
       "<div>\n",
       "<style scoped>\n",
       "    .dataframe tbody tr th:only-of-type {\n",
       "        vertical-align: middle;\n",
       "    }\n",
       "\n",
       "    .dataframe tbody tr th {\n",
       "        vertical-align: top;\n",
       "    }\n",
       "\n",
       "    .dataframe thead th {\n",
       "        text-align: right;\n",
       "    }\n",
       "</style>\n",
       "<table border=\"1\" class=\"dataframe\">\n",
       "  <thead>\n",
       "    <tr style=\"text-align: right;\">\n",
       "      <th></th>\n",
       "      <th>predicted</th>\n",
       "      <th>Compound_ID</th>\n",
       "      <th>Protein_ID</th>\n",
       "    </tr>\n",
       "  </thead>\n",
       "  <tbody>\n",
       "    <tr>\n",
       "      <th>16373</th>\n",
       "      <td>0.812654</td>\n",
       "      <td>C00007</td>\n",
       "      <td>aab:A4R43_03205_1.14.20.1</td>\n",
       "    </tr>\n",
       "    <tr>\n",
       "      <th>23513</th>\n",
       "      <td>0.492148</td>\n",
       "      <td>C00026</td>\n",
       "      <td>aab:A4R43_03205_1.14.20.1</td>\n",
       "    </tr>\n",
       "    <tr>\n",
       "      <th>35881</th>\n",
       "      <td>0.699790</td>\n",
       "      <td>C06564</td>\n",
       "      <td>aab:A4R43_03205_1.14.20.1</td>\n",
       "    </tr>\n",
       "    <tr>\n",
       "      <th>28682</th>\n",
       "      <td>0.522032</td>\n",
       "      <td>C00011</td>\n",
       "      <td>aab:A4R43_03240_1.14.11.26</td>\n",
       "    </tr>\n",
       "    <tr>\n",
       "      <th>28567</th>\n",
       "      <td>0.391370</td>\n",
       "      <td>C00042</td>\n",
       "      <td>aab:A4R43_03240_1.14.11.26</td>\n",
       "    </tr>\n",
       "    <tr>\n",
       "      <th>...</th>\n",
       "      <td>...</td>\n",
       "      <td>...</td>\n",
       "      <td>...</td>\n",
       "    </tr>\n",
       "    <tr>\n",
       "      <th>24264</th>\n",
       "      <td>0.910397</td>\n",
       "      <td>C00082</td>\n",
       "      <td>zro:ZYRO0G05346g_2.6.1.58</td>\n",
       "    </tr>\n",
       "    <tr>\n",
       "      <th>14743</th>\n",
       "      <td>0.608590</td>\n",
       "      <td>C00007</td>\n",
       "      <td>zro:ZYRO0G15466g_1.13.12.16</td>\n",
       "    </tr>\n",
       "    <tr>\n",
       "      <th>27283</th>\n",
       "      <td>0.824465</td>\n",
       "      <td>C01847</td>\n",
       "      <td>zro:ZYRO0G15466g_1.13.12.16</td>\n",
       "    </tr>\n",
       "    <tr>\n",
       "      <th>27428</th>\n",
       "      <td>0.504446</td>\n",
       "      <td>C18091</td>\n",
       "      <td>zro:ZYRO0G15466g_1.13.12.16</td>\n",
       "    </tr>\n",
       "    <tr>\n",
       "      <th>67091</th>\n",
       "      <td>0.566980</td>\n",
       "      <td>C00740</td>\n",
       "      <td>zro:ZYRO0G19404g_4.3.1.18</td>\n",
       "    </tr>\n",
       "  </tbody>\n",
       "</table>\n",
       "<p>68209 rows × 3 columns</p>\n",
       "</div>"
      ],
      "text/plain": [
       "       predicted Compound_ID                   Protein_ID\n",
       "16373   0.812654      C00007    aab:A4R43_03205_1.14.20.1\n",
       "23513   0.492148      C00026    aab:A4R43_03205_1.14.20.1\n",
       "35881   0.699790      C06564    aab:A4R43_03205_1.14.20.1\n",
       "28682   0.522032      C00011   aab:A4R43_03240_1.14.11.26\n",
       "28567   0.391370      C00042   aab:A4R43_03240_1.14.11.26\n",
       "...          ...         ...                          ...\n",
       "24264   0.910397      C00082    zro:ZYRO0G05346g_2.6.1.58\n",
       "14743   0.608590      C00007  zro:ZYRO0G15466g_1.13.12.16\n",
       "27283   0.824465      C01847  zro:ZYRO0G15466g_1.13.12.16\n",
       "27428   0.504446      C18091  zro:ZYRO0G15466g_1.13.12.16\n",
       "67091   0.566980      C00740    zro:ZYRO0G19404g_4.3.1.18\n",
       "\n",
       "[68209 rows x 3 columns]"
      ]
     },
     "execution_count": 24,
     "metadata": {},
     "output_type": "execute_result"
    }
   ],
   "source": [
    "pdtitest_df"
   ]
  },
  {
   "cell_type": "code",
   "execution_count": 25,
   "id": "dbbb8093",
   "metadata": {},
   "outputs": [
    {
     "data": {
      "text/plain": [
       "0.27698690788605607"
      ]
     },
     "execution_count": 25,
     "metadata": {},
     "output_type": "execute_result"
    }
   ],
   "source": [
    "sum(pdtitest_df.predicted.values>threshold)/len(pdtitest_df)"
   ]
  }
 ],
 "metadata": {
  "kernelspec": {
   "display_name": "Python 3 (ipykernel)",
   "language": "python",
   "name": "python3"
  },
  "language_info": {
   "codemirror_mode": {
    "name": "ipython",
    "version": 3
   },
   "file_extension": ".py",
   "mimetype": "text/x-python",
   "name": "python",
   "nbconvert_exporter": "python",
   "pygments_lexer": "ipython3",
   "version": "3.8.10"
  },
  "toc-autonumbering": false,
  "toc-showcode": false,
  "toc-showmarkdowntxt": false
 },
 "nbformat": 4,
 "nbformat_minor": 5
}
